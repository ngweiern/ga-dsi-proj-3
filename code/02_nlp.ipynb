{
 "cells": [
  {
   "cell_type": "code",
   "execution_count": 1,
   "metadata": {
    "pycharm": {
     "is_executing": false
    }
   },
   "outputs": [
    {
     "name": "stderr",
     "output_type": "stream",
     "text": [
      "[nltk_data] Downloading package wordnet to /home/dev/nltk_data...\n",
      "[nltk_data]   Package wordnet is already up-to-date!\n",
      "/home/dev/anaconda3/lib/python3.7/site-packages/sklearn/utils/deprecation.py:144: FutureWarning: The sklearn.feature_extraction.stop_words module is  deprecated in version 0.22 and will be removed in version 0.24. The corresponding classes / functions should instead be imported from sklearn.feature_extraction.text. Anything that cannot be imported from sklearn.feature_extraction.text is now part of the private API.\n",
      "  warnings.warn(message, FutureWarning)\n"
     ]
    }
   ],
   "source": [
    "import pandas as pd\n",
    "import numpy as np\n",
    "import nltk\n",
    "nltk.download('wordnet')\n",
    "\n",
    "from nltk.stem import WordNetLemmatizer\n",
    "from nltk.stem.porter import PorterStemmer\n",
    "from nltk.tokenize import RegexpTokenizer\n",
    "import regex as re\n",
    "\n",
    "from bs4 import BeautifulSoup\n",
    "from sklearn.feature_extraction import stop_words\n",
    "from sklearn.feature_extraction.text import CountVectorizer, TfidfVectorizer, TfidfTransformer\n",
    "from sklearn.pipeline import Pipeline\n",
    "from sklearn.model_selection import train_test_split, GridSearchCV\n",
    "from sklearn.linear_model import LogisticRegression\n",
    "from sklearn.naive_bayes import MultinomialNB\n",
    "from sklearn.metrics import confusion_matrix\n",
    "from nltk.corpus import stopwords # Import the stop word list\n",
    "\n",
    "import imp\n",
    "plotting_util = imp.load_source('plotting_util', './plotting_utilities.py')\n",
    "from plotting_util import Plotter\n",
    "plotter = Plotter()\n",
    "\n",
    "%matplotlib inline"
   ]
  },
  {
   "cell_type": "code",
   "execution_count": 2,
   "metadata": {
    "pycharm": {
     "is_executing": false,
     "name": "#%%\n"
    }
   },
   "outputs": [
    {
     "data": {
      "text/html": [
       "<div>\n",
       "<style scoped>\n",
       "    .dataframe tbody tr th:only-of-type {\n",
       "        vertical-align: middle;\n",
       "    }\n",
       "\n",
       "    .dataframe tbody tr th {\n",
       "        vertical-align: top;\n",
       "    }\n",
       "\n",
       "    .dataframe thead th {\n",
       "        text-align: right;\n",
       "    }\n",
       "</style>\n",
       "<table border=\"1\" class=\"dataframe\">\n",
       "  <thead>\n",
       "    <tr style=\"text-align: right;\">\n",
       "      <th></th>\n",
       "      <th>approved_at_utc</th>\n",
       "      <th>subreddit</th>\n",
       "      <th>selftext</th>\n",
       "      <th>author_fullname</th>\n",
       "      <th>saved</th>\n",
       "      <th>mod_reason_title</th>\n",
       "      <th>gilded</th>\n",
       "      <th>clicked</th>\n",
       "      <th>title</th>\n",
       "      <th>link_flair_richtext</th>\n",
       "      <th>...</th>\n",
       "      <th>num_crossposts</th>\n",
       "      <th>media</th>\n",
       "      <th>is_video</th>\n",
       "      <th>post_hint</th>\n",
       "      <th>preview</th>\n",
       "      <th>link_flair_template_id</th>\n",
       "      <th>crosspost_parent_list</th>\n",
       "      <th>crosspost_parent</th>\n",
       "      <th>media_metadata</th>\n",
       "      <th>author_cakeday</th>\n",
       "    </tr>\n",
       "  </thead>\n",
       "  <tbody>\n",
       "    <tr>\n",
       "      <th>0</th>\n",
       "      <td>NaN</td>\n",
       "      <td>androiddev</td>\n",
       "      <td>Looking for Android developers? Heard about a ...</td>\n",
       "      <td>t2_6l4z3</td>\n",
       "      <td>False</td>\n",
       "      <td>NaN</td>\n",
       "      <td>0</td>\n",
       "      <td>False</td>\n",
       "      <td>Weekly \"who's hiring\" thread!</td>\n",
       "      <td>[]</td>\n",
       "      <td>...</td>\n",
       "      <td>0</td>\n",
       "      <td>NaN</td>\n",
       "      <td>False</td>\n",
       "      <td>NaN</td>\n",
       "      <td>NaN</td>\n",
       "      <td>NaN</td>\n",
       "      <td>NaN</td>\n",
       "      <td>NaN</td>\n",
       "      <td>NaN</td>\n",
       "      <td>NaN</td>\n",
       "    </tr>\n",
       "    <tr>\n",
       "      <th>1</th>\n",
       "      <td>NaN</td>\n",
       "      <td>androiddev</td>\n",
       "      <td>This thread is for simple questions that don't...</td>\n",
       "      <td>t2_6l4z3</td>\n",
       "      <td>False</td>\n",
       "      <td>NaN</td>\n",
       "      <td>0</td>\n",
       "      <td>False</td>\n",
       "      <td>Weekly Questions Thread - January 20, 2020</td>\n",
       "      <td>[]</td>\n",
       "      <td>...</td>\n",
       "      <td>0</td>\n",
       "      <td>NaN</td>\n",
       "      <td>False</td>\n",
       "      <td>self</td>\n",
       "      <td>{'images': [{'source': {'url': 'https://extern...</td>\n",
       "      <td>NaN</td>\n",
       "      <td>NaN</td>\n",
       "      <td>NaN</td>\n",
       "      <td>NaN</td>\n",
       "      <td>NaN</td>\n",
       "    </tr>\n",
       "    <tr>\n",
       "      <th>2</th>\n",
       "      <td>NaN</td>\n",
       "      <td>androiddev</td>\n",
       "      <td>NaN</td>\n",
       "      <td>t2_iassk</td>\n",
       "      <td>False</td>\n",
       "      <td>NaN</td>\n",
       "      <td>0</td>\n",
       "      <td>False</td>\n",
       "      <td>Telegram-like theme switching with reveal anim...</td>\n",
       "      <td>[{'e': 'text', 't': 'Article'}]</td>\n",
       "      <td>...</td>\n",
       "      <td>0</td>\n",
       "      <td>NaN</td>\n",
       "      <td>False</td>\n",
       "      <td>link</td>\n",
       "      <td>{'images': [{'source': {'url': 'https://extern...</td>\n",
       "      <td>254cc416-e885-11e4-b88d-22000bc18061</td>\n",
       "      <td>NaN</td>\n",
       "      <td>NaN</td>\n",
       "      <td>NaN</td>\n",
       "      <td>NaN</td>\n",
       "    </tr>\n",
       "    <tr>\n",
       "      <th>3</th>\n",
       "      <td>NaN</td>\n",
       "      <td>androiddev</td>\n",
       "      <td>NaN</td>\n",
       "      <td>t2_3vf8x</td>\n",
       "      <td>False</td>\n",
       "      <td>NaN</td>\n",
       "      <td>0</td>\n",
       "      <td>False</td>\n",
       "      <td>The Power of Types for Errors</td>\n",
       "      <td>[]</td>\n",
       "      <td>...</td>\n",
       "      <td>0</td>\n",
       "      <td>NaN</td>\n",
       "      <td>False</td>\n",
       "      <td>link</td>\n",
       "      <td>{'images': [{'source': {'url': 'https://extern...</td>\n",
       "      <td>NaN</td>\n",
       "      <td>NaN</td>\n",
       "      <td>NaN</td>\n",
       "      <td>NaN</td>\n",
       "      <td>NaN</td>\n",
       "    </tr>\n",
       "    <tr>\n",
       "      <th>4</th>\n",
       "      <td>NaN</td>\n",
       "      <td>androiddev</td>\n",
       "      <td>NaN</td>\n",
       "      <td>t2_45tfbxxq</td>\n",
       "      <td>False</td>\n",
       "      <td>NaN</td>\n",
       "      <td>0</td>\n",
       "      <td>False</td>\n",
       "      <td>Everything you need to know about Memory Leaks...</td>\n",
       "      <td>[]</td>\n",
       "      <td>...</td>\n",
       "      <td>0</td>\n",
       "      <td>NaN</td>\n",
       "      <td>False</td>\n",
       "      <td>link</td>\n",
       "      <td>{'images': [{'source': {'url': 'https://extern...</td>\n",
       "      <td>NaN</td>\n",
       "      <td>NaN</td>\n",
       "      <td>NaN</td>\n",
       "      <td>NaN</td>\n",
       "      <td>NaN</td>\n",
       "    </tr>\n",
       "  </tbody>\n",
       "</table>\n",
       "<p>5 rows × 109 columns</p>\n",
       "</div>"
      ],
      "text/plain": [
       "   approved_at_utc   subreddit  \\\n",
       "0              NaN  androiddev   \n",
       "1              NaN  androiddev   \n",
       "2              NaN  androiddev   \n",
       "3              NaN  androiddev   \n",
       "4              NaN  androiddev   \n",
       "\n",
       "                                            selftext author_fullname  saved  \\\n",
       "0  Looking for Android developers? Heard about a ...        t2_6l4z3  False   \n",
       "1  This thread is for simple questions that don't...        t2_6l4z3  False   \n",
       "2                                                NaN        t2_iassk  False   \n",
       "3                                                NaN        t2_3vf8x  False   \n",
       "4                                                NaN     t2_45tfbxxq  False   \n",
       "\n",
       "   mod_reason_title  gilded  clicked  \\\n",
       "0               NaN       0    False   \n",
       "1               NaN       0    False   \n",
       "2               NaN       0    False   \n",
       "3               NaN       0    False   \n",
       "4               NaN       0    False   \n",
       "\n",
       "                                               title  \\\n",
       "0                      Weekly \"who's hiring\" thread!   \n",
       "1         Weekly Questions Thread - January 20, 2020   \n",
       "2  Telegram-like theme switching with reveal anim...   \n",
       "3                      The Power of Types for Errors   \n",
       "4  Everything you need to know about Memory Leaks...   \n",
       "\n",
       "               link_flair_richtext  ... num_crossposts  media  is_video  \\\n",
       "0                               []  ...              0    NaN     False   \n",
       "1                               []  ...              0    NaN     False   \n",
       "2  [{'e': 'text', 't': 'Article'}]  ...              0    NaN     False   \n",
       "3                               []  ...              0    NaN     False   \n",
       "4                               []  ...              0    NaN     False   \n",
       "\n",
       "  post_hint                                            preview  \\\n",
       "0       NaN                                                NaN   \n",
       "1      self  {'images': [{'source': {'url': 'https://extern...   \n",
       "2      link  {'images': [{'source': {'url': 'https://extern...   \n",
       "3      link  {'images': [{'source': {'url': 'https://extern...   \n",
       "4      link  {'images': [{'source': {'url': 'https://extern...   \n",
       "\n",
       "                 link_flair_template_id  crosspost_parent_list  \\\n",
       "0                                   NaN                    NaN   \n",
       "1                                   NaN                    NaN   \n",
       "2  254cc416-e885-11e4-b88d-22000bc18061                    NaN   \n",
       "3                                   NaN                    NaN   \n",
       "4                                   NaN                    NaN   \n",
       "\n",
       "  crosspost_parent  media_metadata author_cakeday  \n",
       "0              NaN             NaN            NaN  \n",
       "1              NaN             NaN            NaN  \n",
       "2              NaN             NaN            NaN  \n",
       "3              NaN             NaN            NaN  \n",
       "4              NaN             NaN            NaN  \n",
       "\n",
       "[5 rows x 109 columns]"
      ]
     },
     "execution_count": 2,
     "metadata": {},
     "output_type": "execute_result"
    }
   ],
   "source": [
    "android_df = pd.read_csv('../data/android_dev.csv')\n",
    "android_df.drop(['Unnamed: 0'], axis=1, inplace=True)\n",
    "android_df.head()"
   ]
  },
  {
   "cell_type": "code",
   "execution_count": 3,
   "metadata": {
    "pycharm": {
     "is_executing": false,
     "name": "#%%\n"
    }
   },
   "outputs": [
    {
     "data": {
      "text/html": [
       "<div>\n",
       "<style scoped>\n",
       "    .dataframe tbody tr th:only-of-type {\n",
       "        vertical-align: middle;\n",
       "    }\n",
       "\n",
       "    .dataframe tbody tr th {\n",
       "        vertical-align: top;\n",
       "    }\n",
       "\n",
       "    .dataframe thead th {\n",
       "        text-align: right;\n",
       "    }\n",
       "</style>\n",
       "<table border=\"1\" class=\"dataframe\">\n",
       "  <thead>\n",
       "    <tr style=\"text-align: right;\">\n",
       "      <th></th>\n",
       "      <th>approved_at_utc</th>\n",
       "      <th>subreddit</th>\n",
       "      <th>selftext</th>\n",
       "      <th>author_fullname</th>\n",
       "      <th>saved</th>\n",
       "      <th>mod_reason_title</th>\n",
       "      <th>gilded</th>\n",
       "      <th>clicked</th>\n",
       "      <th>title</th>\n",
       "      <th>link_flair_richtext</th>\n",
       "      <th>...</th>\n",
       "      <th>url</th>\n",
       "      <th>subreddit_subscribers</th>\n",
       "      <th>created_utc</th>\n",
       "      <th>num_crossposts</th>\n",
       "      <th>media</th>\n",
       "      <th>is_video</th>\n",
       "      <th>crosspost_parent_list</th>\n",
       "      <th>crosspost_parent</th>\n",
       "      <th>media_metadata</th>\n",
       "      <th>author_cakeday</th>\n",
       "    </tr>\n",
       "  </thead>\n",
       "  <tbody>\n",
       "    <tr>\n",
       "      <th>0</th>\n",
       "      <td>NaN</td>\n",
       "      <td>iOSProgramming</td>\n",
       "      <td>Welcome to r/iOSProgramming! Click the links b...</td>\n",
       "      <td>t2_3h859</td>\n",
       "      <td>False</td>\n",
       "      <td>NaN</td>\n",
       "      <td>0</td>\n",
       "      <td>False</td>\n",
       "      <td>READ BEFORE POSTING / Megathread Hub</td>\n",
       "      <td>[{'e': 'text', 't': 'Announcement'}]</td>\n",
       "      <td>...</td>\n",
       "      <td>https://www.reddit.com/r/iOSProgramming/commen...</td>\n",
       "      <td>66427</td>\n",
       "      <td>1.578431e+09</td>\n",
       "      <td>0</td>\n",
       "      <td>NaN</td>\n",
       "      <td>False</td>\n",
       "      <td>NaN</td>\n",
       "      <td>NaN</td>\n",
       "      <td>NaN</td>\n",
       "      <td>NaN</td>\n",
       "    </tr>\n",
       "    <tr>\n",
       "      <th>1</th>\n",
       "      <td>NaN</td>\n",
       "      <td>iOSProgramming</td>\n",
       "      <td>Welcome to the weekly r/iOSProgramming simple ...</td>\n",
       "      <td>t2_6l4z3</td>\n",
       "      <td>False</td>\n",
       "      <td>NaN</td>\n",
       "      <td>0</td>\n",
       "      <td>False</td>\n",
       "      <td>Simple Questions Megathread—January 13, 2020</td>\n",
       "      <td>[{'e': 'text', 't': 'Weekly'}]</td>\n",
       "      <td>...</td>\n",
       "      <td>https://www.reddit.com/r/iOSProgramming/commen...</td>\n",
       "      <td>66427</td>\n",
       "      <td>1.578946e+09</td>\n",
       "      <td>0</td>\n",
       "      <td>NaN</td>\n",
       "      <td>False</td>\n",
       "      <td>NaN</td>\n",
       "      <td>NaN</td>\n",
       "      <td>NaN</td>\n",
       "      <td>NaN</td>\n",
       "    </tr>\n",
       "    <tr>\n",
       "      <th>2</th>\n",
       "      <td>NaN</td>\n",
       "      <td>iOSProgramming</td>\n",
       "      <td>NaN</td>\n",
       "      <td>t2_dw88zzd</td>\n",
       "      <td>False</td>\n",
       "      <td>NaN</td>\n",
       "      <td>0</td>\n",
       "      <td>False</td>\n",
       "      <td>Pull to Refresh in SwiftUI</td>\n",
       "      <td>[{'e': 'text', 't': 'Article'}]</td>\n",
       "      <td>...</td>\n",
       "      <td>https://link.medium.com/1QgLlY4ho3</td>\n",
       "      <td>66427</td>\n",
       "      <td>1.579486e+09</td>\n",
       "      <td>0</td>\n",
       "      <td>NaN</td>\n",
       "      <td>False</td>\n",
       "      <td>NaN</td>\n",
       "      <td>NaN</td>\n",
       "      <td>NaN</td>\n",
       "      <td>NaN</td>\n",
       "    </tr>\n",
       "    <tr>\n",
       "      <th>3</th>\n",
       "      <td>NaN</td>\n",
       "      <td>iOSProgramming</td>\n",
       "      <td>Keeping up with the newest frameworks and tool...</td>\n",
       "      <td>t2_3hizc4vt</td>\n",
       "      <td>False</td>\n",
       "      <td>NaN</td>\n",
       "      <td>0</td>\n",
       "      <td>False</td>\n",
       "      <td>Developer's Guide to Common Vulnerabilities an...</td>\n",
       "      <td>[{'e': 'text', 't': 'Article'}]</td>\n",
       "      <td>...</td>\n",
       "      <td>https://www.reddit.com/r/iOSProgramming/commen...</td>\n",
       "      <td>66427</td>\n",
       "      <td>1.579524e+09</td>\n",
       "      <td>0</td>\n",
       "      <td>NaN</td>\n",
       "      <td>False</td>\n",
       "      <td>NaN</td>\n",
       "      <td>NaN</td>\n",
       "      <td>NaN</td>\n",
       "      <td>NaN</td>\n",
       "    </tr>\n",
       "    <tr>\n",
       "      <th>4</th>\n",
       "      <td>NaN</td>\n",
       "      <td>iOSProgramming</td>\n",
       "      <td>People tell me there are 10x more web jobs tha...</td>\n",
       "      <td>t2_kgbts</td>\n",
       "      <td>False</td>\n",
       "      <td>NaN</td>\n",
       "      <td>0</td>\n",
       "      <td>False</td>\n",
       "      <td>Is there a shortage of iOS Developers?</td>\n",
       "      <td>[{'e': 'text', 't': 'Question'}]</td>\n",
       "      <td>...</td>\n",
       "      <td>https://www.reddit.com/r/iOSProgramming/commen...</td>\n",
       "      <td>66427</td>\n",
       "      <td>1.579452e+09</td>\n",
       "      <td>0</td>\n",
       "      <td>NaN</td>\n",
       "      <td>False</td>\n",
       "      <td>NaN</td>\n",
       "      <td>NaN</td>\n",
       "      <td>NaN</td>\n",
       "      <td>NaN</td>\n",
       "    </tr>\n",
       "  </tbody>\n",
       "</table>\n",
       "<p>5 rows × 109 columns</p>\n",
       "</div>"
      ],
      "text/plain": [
       "   approved_at_utc       subreddit  \\\n",
       "0              NaN  iOSProgramming   \n",
       "1              NaN  iOSProgramming   \n",
       "2              NaN  iOSProgramming   \n",
       "3              NaN  iOSProgramming   \n",
       "4              NaN  iOSProgramming   \n",
       "\n",
       "                                            selftext author_fullname  saved  \\\n",
       "0  Welcome to r/iOSProgramming! Click the links b...        t2_3h859  False   \n",
       "1  Welcome to the weekly r/iOSProgramming simple ...        t2_6l4z3  False   \n",
       "2                                                NaN      t2_dw88zzd  False   \n",
       "3  Keeping up with the newest frameworks and tool...     t2_3hizc4vt  False   \n",
       "4  People tell me there are 10x more web jobs tha...        t2_kgbts  False   \n",
       "\n",
       "   mod_reason_title  gilded  clicked  \\\n",
       "0               NaN       0    False   \n",
       "1               NaN       0    False   \n",
       "2               NaN       0    False   \n",
       "3               NaN       0    False   \n",
       "4               NaN       0    False   \n",
       "\n",
       "                                               title  \\\n",
       "0               READ BEFORE POSTING / Megathread Hub   \n",
       "1       Simple Questions Megathread—January 13, 2020   \n",
       "2                         Pull to Refresh in SwiftUI   \n",
       "3  Developer's Guide to Common Vulnerabilities an...   \n",
       "4             Is there a shortage of iOS Developers?   \n",
       "\n",
       "                    link_flair_richtext  ...  \\\n",
       "0  [{'e': 'text', 't': 'Announcement'}]  ...   \n",
       "1        [{'e': 'text', 't': 'Weekly'}]  ...   \n",
       "2       [{'e': 'text', 't': 'Article'}]  ...   \n",
       "3       [{'e': 'text', 't': 'Article'}]  ...   \n",
       "4      [{'e': 'text', 't': 'Question'}]  ...   \n",
       "\n",
       "                                                 url  subreddit_subscribers  \\\n",
       "0  https://www.reddit.com/r/iOSProgramming/commen...                  66427   \n",
       "1  https://www.reddit.com/r/iOSProgramming/commen...                  66427   \n",
       "2                 https://link.medium.com/1QgLlY4ho3                  66427   \n",
       "3  https://www.reddit.com/r/iOSProgramming/commen...                  66427   \n",
       "4  https://www.reddit.com/r/iOSProgramming/commen...                  66427   \n",
       "\n",
       "    created_utc num_crossposts  media  is_video  crosspost_parent_list  \\\n",
       "0  1.578431e+09              0    NaN     False                    NaN   \n",
       "1  1.578946e+09              0    NaN     False                    NaN   \n",
       "2  1.579486e+09              0    NaN     False                    NaN   \n",
       "3  1.579524e+09              0    NaN     False                    NaN   \n",
       "4  1.579452e+09              0    NaN     False                    NaN   \n",
       "\n",
       "  crosspost_parent  media_metadata author_cakeday  \n",
       "0              NaN             NaN            NaN  \n",
       "1              NaN             NaN            NaN  \n",
       "2              NaN             NaN            NaN  \n",
       "3              NaN             NaN            NaN  \n",
       "4              NaN             NaN            NaN  \n",
       "\n",
       "[5 rows x 109 columns]"
      ]
     },
     "execution_count": 3,
     "metadata": {},
     "output_type": "execute_result"
    }
   ],
   "source": [
    "ios_df = pd.read_csv('../data/ios_programming.csv')\n",
    "ios_df.drop(['Unnamed: 0'], axis=1, inplace=True)\n",
    "ios_df.head()"
   ]
  },
  {
   "cell_type": "code",
   "execution_count": 4,
   "metadata": {
    "pycharm": {
     "is_executing": false,
     "name": "#%%\n"
    }
   },
   "outputs": [
    {
     "data": {
      "text/html": [
       "<div>\n",
       "<style scoped>\n",
       "    .dataframe tbody tr th:only-of-type {\n",
       "        vertical-align: middle;\n",
       "    }\n",
       "\n",
       "    .dataframe tbody tr th {\n",
       "        vertical-align: top;\n",
       "    }\n",
       "\n",
       "    .dataframe thead th {\n",
       "        text-align: right;\n",
       "    }\n",
       "</style>\n",
       "<table border=\"1\" class=\"dataframe\">\n",
       "  <thead>\n",
       "    <tr style=\"text-align: right;\">\n",
       "      <th></th>\n",
       "      <th>approved_at_utc</th>\n",
       "      <th>subreddit</th>\n",
       "      <th>selftext</th>\n",
       "      <th>author_fullname</th>\n",
       "      <th>saved</th>\n",
       "      <th>mod_reason_title</th>\n",
       "      <th>gilded</th>\n",
       "      <th>clicked</th>\n",
       "      <th>title</th>\n",
       "      <th>link_flair_richtext</th>\n",
       "      <th>...</th>\n",
       "      <th>num_crossposts</th>\n",
       "      <th>media</th>\n",
       "      <th>is_video</th>\n",
       "      <th>post_hint</th>\n",
       "      <th>preview</th>\n",
       "      <th>link_flair_template_id</th>\n",
       "      <th>crosspost_parent_list</th>\n",
       "      <th>crosspost_parent</th>\n",
       "      <th>media_metadata</th>\n",
       "      <th>author_cakeday</th>\n",
       "    </tr>\n",
       "  </thead>\n",
       "  <tbody>\n",
       "    <tr>\n",
       "      <th>0</th>\n",
       "      <td>NaN</td>\n",
       "      <td>androiddev</td>\n",
       "      <td>Looking for Android developers? Heard about a ...</td>\n",
       "      <td>t2_6l4z3</td>\n",
       "      <td>False</td>\n",
       "      <td>NaN</td>\n",
       "      <td>0</td>\n",
       "      <td>False</td>\n",
       "      <td>Weekly \"who's hiring\" thread!</td>\n",
       "      <td>[]</td>\n",
       "      <td>...</td>\n",
       "      <td>0</td>\n",
       "      <td>NaN</td>\n",
       "      <td>False</td>\n",
       "      <td>NaN</td>\n",
       "      <td>NaN</td>\n",
       "      <td>NaN</td>\n",
       "      <td>NaN</td>\n",
       "      <td>NaN</td>\n",
       "      <td>NaN</td>\n",
       "      <td>NaN</td>\n",
       "    </tr>\n",
       "    <tr>\n",
       "      <th>1</th>\n",
       "      <td>NaN</td>\n",
       "      <td>androiddev</td>\n",
       "      <td>This thread is for simple questions that don't...</td>\n",
       "      <td>t2_6l4z3</td>\n",
       "      <td>False</td>\n",
       "      <td>NaN</td>\n",
       "      <td>0</td>\n",
       "      <td>False</td>\n",
       "      <td>Weekly Questions Thread - January 20, 2020</td>\n",
       "      <td>[]</td>\n",
       "      <td>...</td>\n",
       "      <td>0</td>\n",
       "      <td>NaN</td>\n",
       "      <td>False</td>\n",
       "      <td>self</td>\n",
       "      <td>{'images': [{'source': {'url': 'https://extern...</td>\n",
       "      <td>NaN</td>\n",
       "      <td>NaN</td>\n",
       "      <td>NaN</td>\n",
       "      <td>NaN</td>\n",
       "      <td>NaN</td>\n",
       "    </tr>\n",
       "    <tr>\n",
       "      <th>2</th>\n",
       "      <td>NaN</td>\n",
       "      <td>androiddev</td>\n",
       "      <td>NaN</td>\n",
       "      <td>t2_iassk</td>\n",
       "      <td>False</td>\n",
       "      <td>NaN</td>\n",
       "      <td>0</td>\n",
       "      <td>False</td>\n",
       "      <td>Telegram-like theme switching with reveal anim...</td>\n",
       "      <td>[{'e': 'text', 't': 'Article'}]</td>\n",
       "      <td>...</td>\n",
       "      <td>0</td>\n",
       "      <td>NaN</td>\n",
       "      <td>False</td>\n",
       "      <td>link</td>\n",
       "      <td>{'images': [{'source': {'url': 'https://extern...</td>\n",
       "      <td>254cc416-e885-11e4-b88d-22000bc18061</td>\n",
       "      <td>NaN</td>\n",
       "      <td>NaN</td>\n",
       "      <td>NaN</td>\n",
       "      <td>NaN</td>\n",
       "    </tr>\n",
       "    <tr>\n",
       "      <th>3</th>\n",
       "      <td>NaN</td>\n",
       "      <td>androiddev</td>\n",
       "      <td>NaN</td>\n",
       "      <td>t2_3vf8x</td>\n",
       "      <td>False</td>\n",
       "      <td>NaN</td>\n",
       "      <td>0</td>\n",
       "      <td>False</td>\n",
       "      <td>The Power of Types for Errors</td>\n",
       "      <td>[]</td>\n",
       "      <td>...</td>\n",
       "      <td>0</td>\n",
       "      <td>NaN</td>\n",
       "      <td>False</td>\n",
       "      <td>link</td>\n",
       "      <td>{'images': [{'source': {'url': 'https://extern...</td>\n",
       "      <td>NaN</td>\n",
       "      <td>NaN</td>\n",
       "      <td>NaN</td>\n",
       "      <td>NaN</td>\n",
       "      <td>NaN</td>\n",
       "    </tr>\n",
       "    <tr>\n",
       "      <th>4</th>\n",
       "      <td>NaN</td>\n",
       "      <td>androiddev</td>\n",
       "      <td>NaN</td>\n",
       "      <td>t2_45tfbxxq</td>\n",
       "      <td>False</td>\n",
       "      <td>NaN</td>\n",
       "      <td>0</td>\n",
       "      <td>False</td>\n",
       "      <td>Everything you need to know about Memory Leaks...</td>\n",
       "      <td>[]</td>\n",
       "      <td>...</td>\n",
       "      <td>0</td>\n",
       "      <td>NaN</td>\n",
       "      <td>False</td>\n",
       "      <td>link</td>\n",
       "      <td>{'images': [{'source': {'url': 'https://extern...</td>\n",
       "      <td>NaN</td>\n",
       "      <td>NaN</td>\n",
       "      <td>NaN</td>\n",
       "      <td>NaN</td>\n",
       "      <td>NaN</td>\n",
       "    </tr>\n",
       "  </tbody>\n",
       "</table>\n",
       "<p>5 rows × 109 columns</p>\n",
       "</div>"
      ],
      "text/plain": [
       "   approved_at_utc   subreddit  \\\n",
       "0              NaN  androiddev   \n",
       "1              NaN  androiddev   \n",
       "2              NaN  androiddev   \n",
       "3              NaN  androiddev   \n",
       "4              NaN  androiddev   \n",
       "\n",
       "                                            selftext author_fullname  saved  \\\n",
       "0  Looking for Android developers? Heard about a ...        t2_6l4z3  False   \n",
       "1  This thread is for simple questions that don't...        t2_6l4z3  False   \n",
       "2                                                NaN        t2_iassk  False   \n",
       "3                                                NaN        t2_3vf8x  False   \n",
       "4                                                NaN     t2_45tfbxxq  False   \n",
       "\n",
       "   mod_reason_title  gilded  clicked  \\\n",
       "0               NaN       0    False   \n",
       "1               NaN       0    False   \n",
       "2               NaN       0    False   \n",
       "3               NaN       0    False   \n",
       "4               NaN       0    False   \n",
       "\n",
       "                                               title  \\\n",
       "0                      Weekly \"who's hiring\" thread!   \n",
       "1         Weekly Questions Thread - January 20, 2020   \n",
       "2  Telegram-like theme switching with reveal anim...   \n",
       "3                      The Power of Types for Errors   \n",
       "4  Everything you need to know about Memory Leaks...   \n",
       "\n",
       "               link_flair_richtext  ... num_crossposts  media  is_video  \\\n",
       "0                               []  ...              0    NaN     False   \n",
       "1                               []  ...              0    NaN     False   \n",
       "2  [{'e': 'text', 't': 'Article'}]  ...              0    NaN     False   \n",
       "3                               []  ...              0    NaN     False   \n",
       "4                               []  ...              0    NaN     False   \n",
       "\n",
       "  post_hint                                            preview  \\\n",
       "0       NaN                                                NaN   \n",
       "1      self  {'images': [{'source': {'url': 'https://extern...   \n",
       "2      link  {'images': [{'source': {'url': 'https://extern...   \n",
       "3      link  {'images': [{'source': {'url': 'https://extern...   \n",
       "4      link  {'images': [{'source': {'url': 'https://extern...   \n",
       "\n",
       "                 link_flair_template_id  crosspost_parent_list  \\\n",
       "0                                   NaN                    NaN   \n",
       "1                                   NaN                    NaN   \n",
       "2  254cc416-e885-11e4-b88d-22000bc18061                    NaN   \n",
       "3                                   NaN                    NaN   \n",
       "4                                   NaN                    NaN   \n",
       "\n",
       "  crosspost_parent  media_metadata author_cakeday  \n",
       "0              NaN             NaN            NaN  \n",
       "1              NaN             NaN            NaN  \n",
       "2              NaN             NaN            NaN  \n",
       "3              NaN             NaN            NaN  \n",
       "4              NaN             NaN            NaN  \n",
       "\n",
       "[5 rows x 109 columns]"
      ]
     },
     "execution_count": 4,
     "metadata": {},
     "output_type": "execute_result"
    }
   ],
   "source": [
    "combined_df = pd.concat([android_df, ios_df], sort=False)\n",
    "combined_df.head()"
   ]
  },
  {
   "cell_type": "markdown",
   "metadata": {
    "pycharm": {
     "name": "#%% md\n"
    }
   },
   "source": [
    "## Pre-processing"
   ]
  },
  {
   "cell_type": "markdown",
   "metadata": {},
   "source": [
    "**Handle null values**"
   ]
  },
  {
   "cell_type": "code",
   "execution_count": 5,
   "metadata": {
    "pycharm": {
     "is_executing": false
    }
   },
   "outputs": [
    {
     "data": {
      "text/plain": [
       "approved_at_utc           1978\n",
       "subreddit                    0\n",
       "selftext                   531\n",
       "author_fullname              6\n",
       "saved                        0\n",
       "                          ... \n",
       "link_flair_template_id    1023\n",
       "crosspost_parent_list     1936\n",
       "crosspost_parent          1936\n",
       "media_metadata            1899\n",
       "author_cakeday            1973\n",
       "Length: 109, dtype: int64"
      ]
     },
     "execution_count": 5,
     "metadata": {},
     "output_type": "execute_result"
    }
   ],
   "source": [
    "combined_df.isnull().sum()"
   ]
  },
  {
   "cell_type": "code",
   "execution_count": 6,
   "metadata": {
    "pycharm": {
     "is_executing": false
    }
   },
   "outputs": [],
   "source": [
    "combined_df['media'] = combined_df['media'].fillna(\"\")"
   ]
  },
  {
   "cell_type": "code",
   "execution_count": 7,
   "metadata": {
    "pycharm": {
     "is_executing": false
    }
   },
   "outputs": [],
   "source": [
    "# combined_df['selftext'] = combined_df['selftext'].fillna(\"\")\n",
    "combined_df.dropna(subset=['selftext'], inplace=True)"
   ]
  },
  {
   "cell_type": "code",
   "execution_count": 8,
   "metadata": {
    "pycharm": {
     "is_executing": false
    }
   },
   "outputs": [
    {
     "data": {
      "text/plain": [
       "text        1391\n",
       "richtext      51\n",
       "Name: author_flair_type, dtype: int64"
      ]
     },
     "execution_count": 8,
     "metadata": {},
     "output_type": "execute_result"
    }
   ],
   "source": [
    "combined_df['author_flair_type'].value_counts()"
   ]
  },
  {
   "cell_type": "code",
   "execution_count": 9,
   "metadata": {
    "pycharm": {
     "is_executing": false
    }
   },
   "outputs": [
    {
     "data": {
      "text/plain": [
       "richtext    778\n",
       "text        669\n",
       "Name: link_flair_type, dtype: int64"
      ]
     },
     "execution_count": 9,
     "metadata": {},
     "output_type": "execute_result"
    }
   ],
   "source": [
    "combined_df['link_flair_type'].value_counts()"
   ]
  },
  {
   "cell_type": "code",
   "execution_count": 10,
   "metadata": {
    "pycharm": {
     "name": "#%%\n"
    }
   },
   "outputs": [],
   "source": [
    "combined_df['subreddit'] = combined_df['subreddit'].map({'androiddev': 1, 'iOSProgramming': 0})"
   ]
  },
  {
   "cell_type": "code",
   "execution_count": 11,
   "metadata": {
    "pycharm": {
     "name": "#%%\n"
    }
   },
   "outputs": [],
   "source": [
    "combined_df = combined_df[['id', 'title', 'name', 'media', \n",
    "                           'is_video', 'permalink', 'author_flair_type',\n",
    "                           'link_flair_type', 'created', 'created_utc', 'selftext',\n",
    "                           'author_fullname', 'subreddit']]"
   ]
  },
  {
   "cell_type": "markdown",
   "metadata": {},
   "source": [
    "## Baseline Accuracy"
   ]
  },
  {
   "cell_type": "code",
   "execution_count": 12,
   "metadata": {
    "pycharm": {
     "name": "#%%\n"
    }
   },
   "outputs": [
    {
     "data": {
      "text/plain": [
       "1    0.500346\n",
       "0    0.499654\n",
       "Name: subreddit, dtype: float64"
      ]
     },
     "execution_count": 12,
     "metadata": {},
     "output_type": "execute_result"
    }
   ],
   "source": [
    "combined_df['subreddit'].value_counts(normalize=True)"
   ]
  },
  {
   "cell_type": "code",
   "execution_count": null,
   "metadata": {},
   "outputs": [],
   "source": []
  },
  {
   "cell_type": "code",
   "execution_count": 13,
   "metadata": {
    "pycharm": {
     "is_executing": false,
     "name": "#%%\n"
    }
   },
   "outputs": [],
   "source": [
    "# Import lemmatizer\n",
    "lemmatizer = WordNetLemmatizer()\n",
    "\n",
    "# # Lemmatize tokens.\n",
    "# tokens_lem = [lemmatizer.lemmatize(i) for i in spam_tokens]"
   ]
  },
  {
   "cell_type": "code",
   "execution_count": 14,
   "metadata": {
    "pycharm": {
     "is_executing": false
    }
   },
   "outputs": [],
   "source": [
    "# Instantiate object of class PorterStemmer.\n",
    "p_stemmer = PorterStemmer()"
   ]
  },
  {
   "cell_type": "code",
   "execution_count": 15,
   "metadata": {
    "pycharm": {
     "is_executing": false
    }
   },
   "outputs": [],
   "source": [
    "# # Instantiate Tokenizer\n",
    "# tokenizer = RegexpTokenizer(r'\\w+')\n",
    "# # tokenizer = RegexpTokenizer('\\w+|\\$[\\d\\.]+|\\S+')\n",
    "# # tokenizer = RegexpTokenizer('[A-Z]\\w+')\n",
    "\n",
    "# # \"Run\" Tokenizer\n",
    "# spam_tokens = tokenizer.tokenize(spam.lower())\n",
    "\n",
    "# def simple_sentiment(text):\n",
    "#     # Instantiate tokenizer.\n",
    "#     tokenizer = RegexpTokenizer(r'\\w+')\n",
    "    \n",
    "#     # Tokenize text.\n",
    "#     tokens = tokenizer.tokenize(text.lower())\n",
    "    \n",
    "#     # Instantiate stemmer.\n",
    "#     p_stemmer = PorterStemmer()\n",
    "    \n",
    "#     # Stem words.\n",
    "#     stemmed_words = [p_stemmer.stem(i) for i in tokens]\n",
    "    \n",
    "#     # Stem our positive/negative words.\n",
    "#     positive_stems = [p_stemmer.stem(i) for i in positive_words]\n",
    "#     negative_stems = [p_stemmer.stem(i) for i in negative_words]\n",
    "\n",
    "#     # Count \"positive\" words.\n",
    "#     positive_count = sum([1 for i in stemmed_words if i in positive_stems])\n",
    "    \n",
    "#     # Count \"negative\" words\n",
    "#     negative_count = sum([1 for i in stemmed_words if i in negative_stems])\n",
    "    \n",
    "#     # Calculate Sentiment Percentage \n",
    "#     # (Positive Count - Negative Count) / (Total Count)\n",
    "\n",
    "#     return round((positive_count - negative_count) / len(tokens), 2)"
   ]
  },
  {
   "cell_type": "code",
   "execution_count": 16,
   "metadata": {
    "pycharm": {
     "is_executing": false
    }
   },
   "outputs": [
    {
     "data": {
      "text/plain": [
       "Index(['id', 'title', 'name', 'media', 'is_video', 'permalink',\n",
       "       'author_flair_type', 'link_flair_type', 'created', 'created_utc',\n",
       "       'selftext', 'author_fullname', 'subreddit'],\n",
       "      dtype='object')"
      ]
     },
     "execution_count": 16,
     "metadata": {},
     "output_type": "execute_result"
    }
   ],
   "source": [
    "combined_df.columns"
   ]
  },
  {
   "cell_type": "code",
   "execution_count": 26,
   "metadata": {
    "pycharm": {
     "is_executing": false
    }
   },
   "outputs": [],
   "source": [
    "def review_to_words(raw_post):\n",
    "    # Function to convert a raw reddit post to a string of words\n",
    "    # The input is a single string (a raw reddit post), and \n",
    "    # the output is a single string (a preprocessed reddit post)\n",
    "    \n",
    "    # 1. Remove HTML.\n",
    "    post_text = BeautifulSoup(raw_post).get_text()\n",
    "    \n",
    "    # 2. Remove non-letters.\n",
    "    letters_only = re.sub(\"[^a-zA-Z]\", \" \", post_text)\n",
    "    letters_only = re.sub(r'^https?:\\/\\/.*[\\r\\n]*', '', letters_only)\n",
    "    \n",
    "    # 3. Convert to lower case, split into individual words.\n",
    "    words = letters_only.lower().split()\n",
    "    \n",
    "    # 4. In Python, searching a set is much faster than searching\n",
    "    # a list, so convert the stop words to a set.\n",
    "    stops = set(stopwords.words('english'))\n",
    "    \n",
    "    # 5. Remove stop words.\n",
    "    meaningful_words = [w for w in words if not w in stops]\n",
    "    \n",
    "    # 6. Lemmatize words\n",
    "    lemmatized_words = [lemmatizer.lemmatize(w) for w in meaningful_words]\n",
    "    \n",
    "    # 7. Join the words back into one string separated by space, \n",
    "    # and return the result.\n",
    "    return(\" \".join(meaningful_words))"
   ]
  },
  {
   "cell_type": "code",
   "execution_count": 51,
   "metadata": {},
   "outputs": [],
   "source": [
    "X = combined_df['selftext']\n",
    "# X = combined_df['selftext'].apply(review_to_words)\n",
    "y = combined_df['subreddit']"
   ]
  },
  {
   "cell_type": "code",
   "execution_count": 52,
   "metadata": {
    "pycharm": {
     "is_executing": false
    }
   },
   "outputs": [],
   "source": [
    "# Create train_test_split.\n",
    "X_train, X_test, y_train, y_test = train_test_split(X,\n",
    "                                                    y,\n",
    "                                                    stratify=y,\n",
    "                                                    test_size = 0.25,\n",
    "                                                    random_state = 42)"
   ]
  },
  {
   "cell_type": "code",
   "execution_count": null,
   "metadata": {
    "pycharm": {
     "is_executing": false
    }
   },
   "outputs": [],
   "source": []
  },
  {
   "cell_type": "code",
   "execution_count": 62,
   "metadata": {
    "pycharm": {
     "is_executing": false
    }
   },
   "outputs": [],
   "source": [
    "# total_reviews = combined_df.shape[0]\n",
    "\n",
    "# # Initialize an empty list to hold the clean reviews.\n",
    "# clean_train_reviews = []\n",
    "# clean_test_reviews = []"
   ]
  },
  {
   "cell_type": "code",
   "execution_count": 61,
   "metadata": {
    "pycharm": {
     "is_executing": false
    }
   },
   "outputs": [],
   "source": [
    "# print(\"Cleaning and parsing the training set movie reviews...\")\n",
    "\n",
    "# j = 0\n",
    "# for train_review in X_train:\n",
    "#     # Convert review to words, then append to clean_train_reviews.\n",
    "#     clean_train_reviews.append(review_to_words(train_review))\n",
    "    \n",
    "#     # If the index is divisible by 200, print a message\n",
    "#     if (j + 1) % 200 == 0:\n",
    "#         print(f'Review {j + 1} of {total_reviews}.')\n",
    "    \n",
    "#     j += 1\n",
    "\n",
    "# # Let's do the same for our testing set.\n",
    "\n",
    "# print(\"Cleaning and parsing the testing set movie reviews...\")\n",
    "\n",
    "# for test_review in X_test:\n",
    "#     # Convert review to words, then append to clean_train_reviews.\n",
    "#     clean_test_reviews.append(review_to_words(test_review))\n",
    "    \n",
    "#     # If the index is divisible by 200, print a message\n",
    "#     if (j + 1) % 200 == 0:\n",
    "#         print(f'Review {j + 1} of {total_reviews}.')\n",
    "        \n",
    "#     j += 1"
   ]
  },
  {
   "cell_type": "markdown",
   "metadata": {
    "pycharm": {
     "is_executing": false
    }
   },
   "source": [
    "## Multinomial Naive Bayes"
   ]
  },
  {
   "cell_type": "code",
   "execution_count": 53,
   "metadata": {
    "pycharm": {
     "is_executing": false
    }
   },
   "outputs": [],
   "source": [
    "pipe = Pipeline([\n",
    "    ('cvec', CountVectorizer(stop_words='english')),\n",
    "    ('tfidf', TfidfTransformer()),\n",
    "    ('nb', MultinomialNB())\n",
    "])"
   ]
  },
  {
   "cell_type": "code",
   "execution_count": 54,
   "metadata": {
    "pycharm": {
     "is_executing": false
    }
   },
   "outputs": [
    {
     "name": "stdout",
     "output_type": "stream",
     "text": [
      "0.8341189554286997\n"
     ]
    },
    {
     "data": {
      "text/plain": [
       "{'cvec__max_df': 0.9,\n",
       " 'cvec__max_features': 4500,\n",
       " 'cvec__min_df': 2,\n",
       " 'cvec__ngram_range': (1, 2)}"
      ]
     },
     "execution_count": 54,
     "metadata": {},
     "output_type": "execute_result"
    }
   ],
   "source": [
    "pipe_params = {\n",
    "#     'cvec__tokenizer': [lemmatizer.lemmatize, p_stemmer.stem],\n",
    "    'cvec__max_features': [2500, 3000, 3500, 4000, 4500],\n",
    "    'cvec__min_df': [2, 3],\n",
    "    'cvec__max_df': [.9, .95],\n",
    "    'cvec__ngram_range': [(1,1), (1,2)]\n",
    "}\n",
    "gs = GridSearchCV(pipe, param_grid=pipe_params, cv=3)\n",
    "# gs.fit(pd.Series(clean_train_reviews), y_train) \n",
    "gs.fit(X_train, y_train) # gs.fit(X_train['selftext'], y_train)\n",
    "print(gs.best_score_)\n",
    "gs.best_params_"
   ]
  },
  {
   "cell_type": "code",
   "execution_count": 55,
   "metadata": {
    "pycharm": {
     "is_executing": false
    }
   },
   "outputs": [
    {
     "data": {
      "text/plain": [
       "0.9815668202764977"
      ]
     },
     "execution_count": 55,
     "metadata": {},
     "output_type": "execute_result"
    }
   ],
   "source": [
    "gs.score(X_train, y_train) \n",
    "# gs.score(X_train['selftext'], y_train)\n",
    "# gs.score(pd.Series(clean_train_reviews), y_train)"
   ]
  },
  {
   "cell_type": "code",
   "execution_count": 56,
   "metadata": {
    "pycharm": {
     "is_executing": false
    }
   },
   "outputs": [
    {
     "data": {
      "text/plain": [
       "0.8342541436464088"
      ]
     },
     "execution_count": 56,
     "metadata": {},
     "output_type": "execute_result"
    }
   ],
   "source": [
    "gs.score(X_test, y_test)\n",
    "# gs.score(X_test['selftext'], y_test)\n",
    "# gs.score(pd.Series(clean_test_reviews), y_test) "
   ]
  },
  {
   "cell_type": "code",
   "execution_count": 57,
   "metadata": {
    "pycharm": {
     "is_executing": false
    }
   },
   "outputs": [],
   "source": [
    "predictions = gs.predict(X_test)"
   ]
  },
  {
   "cell_type": "code",
   "execution_count": 58,
   "metadata": {
    "pycharm": {
     "is_executing": false
    }
   },
   "outputs": [
    {
     "data": {
      "text/plain": [
       "array([[153,  28],\n",
       "       [ 32, 149]])"
      ]
     },
     "execution_count": 58,
     "metadata": {},
     "output_type": "execute_result"
    }
   ],
   "source": [
    "confusion_matrix(y_test, predictions)"
   ]
  },
  {
   "cell_type": "code",
   "execution_count": 59,
   "metadata": {
    "pycharm": {
     "is_executing": false
    }
   },
   "outputs": [],
   "source": [
    "tn, fp, fn, tp = confusion_matrix(y_test, predictions).ravel()"
   ]
  },
  {
   "cell_type": "code",
   "execution_count": 60,
   "metadata": {
    "pycharm": {
     "is_executing": false
    }
   },
   "outputs": [
    {
     "name": "stdout",
     "output_type": "stream",
     "text": [
      "True Negatives: 153\n",
      "False Positives: 28\n",
      "False Negatives: 32\n",
      "True Positives: 149\n"
     ]
    }
   ],
   "source": [
    "print(\"True Negatives: %s\" % tn)\n",
    "print(\"False Positives: %s\" % fp)\n",
    "print(\"False Negatives: %s\" % fn)\n",
    "print(\"True Positives: %s\" % tp)"
   ]
  },
  {
   "cell_type": "markdown",
   "metadata": {
    "pycharm": {
     "is_executing": false
    }
   },
   "source": [
    "## Logistic Regression"
   ]
  },
  {
   "cell_type": "code",
   "execution_count": 40,
   "metadata": {
    "pycharm": {
     "is_executing": false
    }
   },
   "outputs": [],
   "source": [
    "pipe = Pipeline([\n",
    "    ('cvec', CountVectorizer(stop_words='english')),\n",
    "    ('tfidf', TfidfTransformer()),\n",
    "    ('lr', LogisticRegression(max_iter=5000))\n",
    "])"
   ]
  },
  {
   "cell_type": "code",
   "execution_count": 41,
   "metadata": {
    "pycharm": {
     "is_executing": false
    }
   },
   "outputs": [
    {
     "name": "stdout",
     "output_type": "stream",
     "text": [
      "0.8571392132555874\n"
     ]
    },
    {
     "data": {
      "text/plain": [
       "{'cvec__max_df': 0.9,\n",
       " 'cvec__max_features': 3000,\n",
       " 'cvec__min_df': 3,\n",
       " 'cvec__ngram_range': (1, 2)}"
      ]
     },
     "execution_count": 41,
     "metadata": {},
     "output_type": "execute_result"
    }
   ],
   "source": [
    "pipe_params = {\n",
    "    'cvec__max_features': [2500, 3000, 3500, 4000, 4500],\n",
    "    'cvec__min_df': [2, 3],\n",
    "    'cvec__max_df': [.9, .95],\n",
    "    'cvec__ngram_range': [(1,1), (1,2)]\n",
    "}\n",
    "gs = GridSearchCV(pipe, param_grid=pipe_params, cv=3)\n",
    "gs.fit(X_train, y_train)\n",
    "# gs.fit(pd.Series(clean_train_reviews), y_train)\n",
    "print(gs.best_score_)\n",
    "gs.best_params_"
   ]
  },
  {
   "cell_type": "code",
   "execution_count": 42,
   "metadata": {
    "pycharm": {
     "is_executing": false
    }
   },
   "outputs": [
    {
     "data": {
      "text/plain": [
       "0.9834101382488479"
      ]
     },
     "execution_count": 42,
     "metadata": {},
     "output_type": "execute_result"
    }
   ],
   "source": [
    "gs.score(X_train, y_train) \n",
    "# gs.score(pd.Series(clean_train_reviews), y_train)"
   ]
  },
  {
   "cell_type": "code",
   "execution_count": 43,
   "metadata": {
    "pycharm": {
     "is_executing": false
    }
   },
   "outputs": [
    {
     "data": {
      "text/plain": [
       "0.8204419889502762"
      ]
     },
     "execution_count": 43,
     "metadata": {},
     "output_type": "execute_result"
    }
   ],
   "source": [
    "gs.score(X_test, y_test)\n",
    "# gs.score(pd.Series(clean_test_reviews), y_test) "
   ]
  },
  {
   "cell_type": "code",
   "execution_count": 44,
   "metadata": {
    "pycharm": {
     "is_executing": false
    }
   },
   "outputs": [],
   "source": [
    "predictions = gs.predict(X_test)\n",
    "# predictions = gs.predict(pd.Series(clean_test_reviews))"
   ]
  },
  {
   "cell_type": "code",
   "execution_count": 45,
   "metadata": {
    "pycharm": {
     "is_executing": false
    }
   },
   "outputs": [
    {
     "data": {
      "text/plain": [
       "array([[152,  29],\n",
       "       [ 36, 145]])"
      ]
     },
     "execution_count": 45,
     "metadata": {},
     "output_type": "execute_result"
    }
   ],
   "source": [
    "confusion_matrix(y_test, predictions)"
   ]
  },
  {
   "cell_type": "code",
   "execution_count": 46,
   "metadata": {
    "pycharm": {
     "is_executing": false
    }
   },
   "outputs": [],
   "source": [
    "tn, fp, fn, tp = confusion_matrix(y_test, predictions).ravel()"
   ]
  },
  {
   "cell_type": "code",
   "execution_count": 47,
   "metadata": {
    "pycharm": {
     "is_executing": false
    }
   },
   "outputs": [
    {
     "name": "stdout",
     "output_type": "stream",
     "text": [
      "True Negatives: 152\n",
      "False Positives: 29\n",
      "False Negatives: 36\n",
      "True Positives: 145\n"
     ]
    }
   ],
   "source": [
    "print(\"True Negatives: %s\" % tn)\n",
    "print(\"False Positives: %s\" % fp)\n",
    "print(\"False Negatives: %s\" % fn)\n",
    "print(\"True Positives: %s\" % tp)"
   ]
  },
  {
   "cell_type": "code",
   "execution_count": 48,
   "metadata": {},
   "outputs": [],
   "source": [
    "pred_proba = [i[1] for i in gs.predict_proba(X_test)]\n",
    "\n",
    "pred_df = pd.DataFrame({'true_values': y_test,\n",
    "                        'pred_probs':pred_proba})"
   ]
  },
  {
   "cell_type": "code",
   "execution_count": 49,
   "metadata": {},
   "outputs": [
    {
     "data": {
      "image/png": "[encoded data removed]",
      "text/plain": [
       "<Figure size 720x504 with 1 Axes>"
      ]
     },
     "metadata": {
      "needs_background": "light"
     },
     "output_type": "display_data"
    }
   ],
   "source": [
    "plotter.plot_probability_distribution(pred_df)"
   ]
  },
  {
   "cell_type": "code",
   "execution_count": 50,
   "metadata": {},
   "outputs": [
    {
     "data": {
      "image/png": "[encoded data removed]",
      "text/plain": [
       "<Figure size 720x504 with 1 Axes>"
      ]
     },
     "metadata": {
      "needs_background": "light"
     },
     "output_type": "display_data"
    }
   ],
   "source": [
    "plotter.plot_roc_curve(pred_df=pred_df)"
   ]
  },
  {
   "cell_type": "code",
   "execution_count": null,
   "metadata": {
    "pycharm": {
     "is_executing": false
    }
   },
   "outputs": [],
   "source": [
    "# # Fit the transformer\n",
    "# tvec = TfidfVectorizer()\n",
    "\n",
    "# df  = pd.DataFrame(tvec.fit_transform(texts).toarray(),\n",
    "#                    columns=tvec.get_feature_names())"
   ]
  },
  {
   "cell_type": "markdown",
   "metadata": {},
   "source": [
    "## More verbose code?"
   ]
  },
  {
   "cell_type": "code",
   "execution_count": null,
   "metadata": {
    "pycharm": {
     "is_executing": false
    }
   },
   "outputs": [],
   "source": [
    "# Import CountVectorizer.\n",
    "from sklearn.feature_extraction.text import CountVectorizer\n",
    "\n",
    "# Instantiate the \"CountVectorizer\" object, which is scikit-learn's bag of words tool.\n",
    "vectorizer = CountVectorizer(analyzer = \"word\",\n",
    "                             tokenizer = None,\n",
    "                             preprocessor = None,\n",
    "                             stop_words = None,\n",
    "                             max_features = 5000) "
   ]
  },
  {
   "cell_type": "code",
   "execution_count": null,
   "metadata": {
    "pycharm": {
     "is_executing": false
    }
   },
   "outputs": [],
   "source": [
    "# fit_transform() does two functions: First, it fits the model\n",
    "# and learns the vocabulary; second, it transforms our training data\n",
    "# into feature vectors. The input to fit_transform should be a list of \n",
    "# strings.\n",
    "\n",
    "train_data_features = vectorizer.fit_transform(clean_train_reviews)\n",
    "test_data_features = vectorizer.transform(clean_test_reviews)\n",
    "\n",
    "# Numpy arrays are easy to work with, so convert the result to an array.\n",
    "\n",
    "train_data_features = train_data_features.toarray()\n",
    "test_data_features = test_data_features.toarray()"
   ]
  },
  {
   "cell_type": "code",
   "execution_count": null,
   "metadata": {
    "pycharm": {
     "is_executing": false
    }
   },
   "outputs": [],
   "source": [
    "X_train_df = pd.DataFrame(train_data_features,\n",
    "                          columns=vectorizer.get_feature_names())"
   ]
  },
  {
   "cell_type": "code",
   "execution_count": null,
   "metadata": {
    "pycharm": {
     "is_executing": false
    }
   },
   "outputs": [],
   "source": [
    "X_train_df.shape"
   ]
  },
  {
   "cell_type": "code",
   "execution_count": null,
   "metadata": {
    "pycharm": {
     "is_executing": false
    }
   },
   "outputs": [],
   "source": [
    "X_test_df = pd.DataFrame(test_data_features, \n",
    "                         columns=vectorizer.get_feature_names())\n",
    "X_test_df.shape"
   ]
  },
  {
   "cell_type": "code",
   "execution_count": null,
   "metadata": {
    "pycharm": {
     "is_executing": false
    }
   },
   "outputs": [],
   "source": [
    "print(train_data_features.shape)\n",
    "print(test_data_features.shape)"
   ]
  },
  {
   "cell_type": "code",
   "execution_count": null,
   "metadata": {
    "pycharm": {
     "is_executing": false
    }
   },
   "outputs": [],
   "source": [
    "vocab = vectorizer.get_feature_names()\n",
    "print(vocab)"
   ]
  },
  {
   "cell_type": "code",
   "execution_count": null,
   "metadata": {},
   "outputs": [],
   "source": []
  },
  {
   "cell_type": "code",
   "execution_count": null,
   "metadata": {
    "pycharm": {
     "is_executing": false
    }
   },
   "outputs": [],
   "source": [
    "# Instantiate logistic regression model.\n",
    "lr = LogisticRegression()\n",
    "\n",
    "# Fit model to training data.\n",
    "lr.fit(train_data_features, y_train)"
   ]
  },
  {
   "cell_type": "code",
   "execution_count": null,
   "metadata": {
    "pycharm": {
     "is_executing": false
    }
   },
   "outputs": [],
   "source": [
    "# Evaluate model on training data.\n",
    "lr.score(train_data_features, y_train)"
   ]
  },
  {
   "cell_type": "code",
   "execution_count": null,
   "metadata": {
    "pycharm": {
     "is_executing": false
    }
   },
   "outputs": [],
   "source": [
    "# Evaluate model on testing data.\n",
    "lr.score(test_data_features, y_test)"
   ]
  }
 ],
 "metadata": {
  "kernelspec": {
   "display_name": "Python 3",
   "language": "python",
   "name": "python3"
  },
  "language_info": {
   "codemirror_mode": {
    "name": "ipython",
    "version": 3
   },
   "file_extension": ".py",
   "mimetype": "text/x-python",
   "name": "python",
   "nbconvert_exporter": "python",
   "pygments_lexer": "ipython3",
   "version": "3.7.4"
  },
  "pycharm": {
   "stem_cell": {
    "cell_type": "raw",
    "metadata": {
     "collapsed": false
    },
    "source": []
   }
  }
 },
 "nbformat": 4,
 "nbformat_minor": 1
}
