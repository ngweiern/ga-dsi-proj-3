{
 "cells": [
  {
   "cell_type": "markdown",
   "metadata": {},
   "source": [
    "## Problem Statement\n",
    "\n",
    "To identify the better model between Logistic Regression and Naive Bayes, based on their accuracies in classifying reddit posts into two categories, namely \"iOS Programming\" subreddit and \"Developing Android Apps\" subreddit."
   ]
  },
  {
   "cell_type": "markdown",
   "metadata": {},
   "source": [
    "## Executive Summary\n",
    "\n",
    "Reddit posts were scraped from two subreddit threads, \"iOS Programming\" and \"Developing Android Apps\". These reddit posts were then pre-processed before being separately trained on the Logistic Regression and the Multinomial Naive Bayes classifier. Initially, before feature engineering was performed, the Logistic Regression algorithm outperformed the Multinomial Naive Bayes algorithm. However, after feature engineering was performed, in which the selftext and title of each posts were merged, the Multinomial Naive Bayes algorithm outperformed the Logistic Regression."
   ]
  },
  {
   "cell_type": "markdown",
   "metadata": {},
   "source": [
    "### Contents:\n",
    "- [Import libraries](#Import-libraries)\n",
    "- [Import data](#Import-data)\n",
    "- [Exploratory Data Analysis](#Exploratory-Data-Analysis)\n",
    "- [Modeling](#Modeling)\n",
    "- [Further Modeling](#Further-Modeling)\n",
    "- [Conclusions and Recommendations](#Conclusions-and-Recommendations)"
   ]
  },
  {
   "cell_type": "markdown",
   "metadata": {},
   "source": [
    "## Import libraries"
   ]
  },
  {
   "cell_type": "code",
   "execution_count": 1,
   "metadata": {
    "pycharm": {
     "is_executing": false
    }
   },
   "outputs": [
    {
     "name": "stderr",
     "output_type": "stream",
     "text": [
      "[nltk_data] Downloading package wordnet to /home/dev/nltk_data...\n",
      "[nltk_data]   Package wordnet is already up-to-date!\n",
      "/home/dev/anaconda3/lib/python3.7/site-packages/sklearn/utils/deprecation.py:144: FutureWarning: The sklearn.feature_extraction.stop_words module is  deprecated in version 0.22 and will be removed in version 0.24. The corresponding classes / functions should instead be imported from sklearn.feature_extraction.text. Anything that cannot be imported from sklearn.feature_extraction.text is now part of the private API.\n",
      "  warnings.warn(message, FutureWarning)\n"
     ]
    }
   ],
   "source": [
    "import pandas as pd\n",
    "import numpy as np\n",
    "import matplotlib.pyplot as plt\n",
    "import nltk\n",
    "nltk.download('wordnet')\n",
    "\n",
    "from nltk.stem import WordNetLemmatizer\n",
    "from nltk.stem.porter import PorterStemmer\n",
    "from nltk.tokenize import RegexpTokenizer\n",
    "import regex as re\n",
    "\n",
    "from bs4 import BeautifulSoup\n",
    "from sklearn.feature_extraction import stop_words\n",
    "from sklearn.feature_extraction.text import CountVectorizer, TfidfVectorizer, TfidfTransformer\n",
    "from sklearn.pipeline import Pipeline\n",
    "from sklearn.model_selection import train_test_split, GridSearchCV\n",
    "from sklearn.linear_model import LogisticRegression\n",
    "from sklearn.naive_bayes import MultinomialNB\n",
    "from sklearn.metrics import confusion_matrix\n",
    "from nltk.corpus import stopwords # Import the stop word list\n",
    "\n",
    "import imp\n",
    "plotting_util = imp.load_source('plotting_util', './plotting_utilities.py')\n",
    "from plotting_util import Plotter\n",
    "plotter = Plotter()\n",
    "\n",
    "import warnings\n",
    "warnings.filterwarnings('ignore')\n",
    "\n",
    "%matplotlib inline"
   ]
  },
  {
   "cell_type": "markdown",
   "metadata": {},
   "source": [
    "## Import data"
   ]
  },
  {
   "cell_type": "code",
   "execution_count": 2,
   "metadata": {
    "pycharm": {
     "is_executing": false,
     "name": "#%%\n"
    }
   },
   "outputs": [
    {
     "data": {
      "text/html": [
       "<div>\n",
       "<style scoped>\n",
       "    .dataframe tbody tr th:only-of-type {\n",
       "        vertical-align: middle;\n",
       "    }\n",
       "\n",
       "    .dataframe tbody tr th {\n",
       "        vertical-align: top;\n",
       "    }\n",
       "\n",
       "    .dataframe thead th {\n",
       "        text-align: right;\n",
       "    }\n",
       "</style>\n",
       "<table border=\"1\" class=\"dataframe\">\n",
       "  <thead>\n",
       "    <tr style=\"text-align: right;\">\n",
       "      <th></th>\n",
       "      <th>approved_at_utc</th>\n",
       "      <th>subreddit</th>\n",
       "      <th>selftext</th>\n",
       "      <th>author_fullname</th>\n",
       "      <th>saved</th>\n",
       "      <th>mod_reason_title</th>\n",
       "      <th>gilded</th>\n",
       "      <th>clicked</th>\n",
       "      <th>title</th>\n",
       "      <th>link_flair_richtext</th>\n",
       "      <th>...</th>\n",
       "      <th>num_crossposts</th>\n",
       "      <th>media</th>\n",
       "      <th>is_video</th>\n",
       "      <th>post_hint</th>\n",
       "      <th>preview</th>\n",
       "      <th>link_flair_template_id</th>\n",
       "      <th>crosspost_parent_list</th>\n",
       "      <th>crosspost_parent</th>\n",
       "      <th>media_metadata</th>\n",
       "      <th>author_cakeday</th>\n",
       "    </tr>\n",
       "  </thead>\n",
       "  <tbody>\n",
       "    <tr>\n",
       "      <th>0</th>\n",
       "      <td>NaN</td>\n",
       "      <td>androiddev</td>\n",
       "      <td>Looking for Android developers? Heard about a ...</td>\n",
       "      <td>t2_6l4z3</td>\n",
       "      <td>False</td>\n",
       "      <td>NaN</td>\n",
       "      <td>0</td>\n",
       "      <td>False</td>\n",
       "      <td>Weekly \"who's hiring\" thread!</td>\n",
       "      <td>[]</td>\n",
       "      <td>...</td>\n",
       "      <td>0</td>\n",
       "      <td>NaN</td>\n",
       "      <td>False</td>\n",
       "      <td>NaN</td>\n",
       "      <td>NaN</td>\n",
       "      <td>NaN</td>\n",
       "      <td>NaN</td>\n",
       "      <td>NaN</td>\n",
       "      <td>NaN</td>\n",
       "      <td>NaN</td>\n",
       "    </tr>\n",
       "    <tr>\n",
       "      <th>1</th>\n",
       "      <td>NaN</td>\n",
       "      <td>androiddev</td>\n",
       "      <td>This thread is for simple questions that don't...</td>\n",
       "      <td>t2_6l4z3</td>\n",
       "      <td>False</td>\n",
       "      <td>NaN</td>\n",
       "      <td>0</td>\n",
       "      <td>False</td>\n",
       "      <td>Weekly Questions Thread - January 20, 2020</td>\n",
       "      <td>[]</td>\n",
       "      <td>...</td>\n",
       "      <td>0</td>\n",
       "      <td>NaN</td>\n",
       "      <td>False</td>\n",
       "      <td>self</td>\n",
       "      <td>{'images': [{'source': {'url': 'https://extern...</td>\n",
       "      <td>NaN</td>\n",
       "      <td>NaN</td>\n",
       "      <td>NaN</td>\n",
       "      <td>NaN</td>\n",
       "      <td>NaN</td>\n",
       "    </tr>\n",
       "    <tr>\n",
       "      <th>2</th>\n",
       "      <td>NaN</td>\n",
       "      <td>androiddev</td>\n",
       "      <td>NaN</td>\n",
       "      <td>t2_iassk</td>\n",
       "      <td>False</td>\n",
       "      <td>NaN</td>\n",
       "      <td>0</td>\n",
       "      <td>False</td>\n",
       "      <td>Telegram-like theme switching with reveal anim...</td>\n",
       "      <td>[{'e': 'text', 't': 'Article'}]</td>\n",
       "      <td>...</td>\n",
       "      <td>0</td>\n",
       "      <td>NaN</td>\n",
       "      <td>False</td>\n",
       "      <td>link</td>\n",
       "      <td>{'images': [{'source': {'url': 'https://extern...</td>\n",
       "      <td>254cc416-e885-11e4-b88d-22000bc18061</td>\n",
       "      <td>NaN</td>\n",
       "      <td>NaN</td>\n",
       "      <td>NaN</td>\n",
       "      <td>NaN</td>\n",
       "    </tr>\n",
       "    <tr>\n",
       "      <th>3</th>\n",
       "      <td>NaN</td>\n",
       "      <td>androiddev</td>\n",
       "      <td>NaN</td>\n",
       "      <td>t2_3vf8x</td>\n",
       "      <td>False</td>\n",
       "      <td>NaN</td>\n",
       "      <td>0</td>\n",
       "      <td>False</td>\n",
       "      <td>The Power of Types for Errors</td>\n",
       "      <td>[]</td>\n",
       "      <td>...</td>\n",
       "      <td>0</td>\n",
       "      <td>NaN</td>\n",
       "      <td>False</td>\n",
       "      <td>link</td>\n",
       "      <td>{'images': [{'source': {'url': 'https://extern...</td>\n",
       "      <td>NaN</td>\n",
       "      <td>NaN</td>\n",
       "      <td>NaN</td>\n",
       "      <td>NaN</td>\n",
       "      <td>NaN</td>\n",
       "    </tr>\n",
       "    <tr>\n",
       "      <th>4</th>\n",
       "      <td>NaN</td>\n",
       "      <td>androiddev</td>\n",
       "      <td>NaN</td>\n",
       "      <td>t2_45tfbxxq</td>\n",
       "      <td>False</td>\n",
       "      <td>NaN</td>\n",
       "      <td>0</td>\n",
       "      <td>False</td>\n",
       "      <td>Everything you need to know about Memory Leaks...</td>\n",
       "      <td>[]</td>\n",
       "      <td>...</td>\n",
       "      <td>0</td>\n",
       "      <td>NaN</td>\n",
       "      <td>False</td>\n",
       "      <td>link</td>\n",
       "      <td>{'images': [{'source': {'url': 'https://extern...</td>\n",
       "      <td>NaN</td>\n",
       "      <td>NaN</td>\n",
       "      <td>NaN</td>\n",
       "      <td>NaN</td>\n",
       "      <td>NaN</td>\n",
       "    </tr>\n",
       "  </tbody>\n",
       "</table>\n",
       "<p>5 rows × 109 columns</p>\n",
       "</div>"
      ],
      "text/plain": [
       "   approved_at_utc   subreddit  \\\n",
       "0              NaN  androiddev   \n",
       "1              NaN  androiddev   \n",
       "2              NaN  androiddev   \n",
       "3              NaN  androiddev   \n",
       "4              NaN  androiddev   \n",
       "\n",
       "                                            selftext author_fullname  saved  \\\n",
       "0  Looking for Android developers? Heard about a ...        t2_6l4z3  False   \n",
       "1  This thread is for simple questions that don't...        t2_6l4z3  False   \n",
       "2                                                NaN        t2_iassk  False   \n",
       "3                                                NaN        t2_3vf8x  False   \n",
       "4                                                NaN     t2_45tfbxxq  False   \n",
       "\n",
       "   mod_reason_title  gilded  clicked  \\\n",
       "0               NaN       0    False   \n",
       "1               NaN       0    False   \n",
       "2               NaN       0    False   \n",
       "3               NaN       0    False   \n",
       "4               NaN       0    False   \n",
       "\n",
       "                                               title  \\\n",
       "0                      Weekly \"who's hiring\" thread!   \n",
       "1         Weekly Questions Thread - January 20, 2020   \n",
       "2  Telegram-like theme switching with reveal anim...   \n",
       "3                      The Power of Types for Errors   \n",
       "4  Everything you need to know about Memory Leaks...   \n",
       "\n",
       "               link_flair_richtext  ... num_crossposts  media  is_video  \\\n",
       "0                               []  ...              0    NaN     False   \n",
       "1                               []  ...              0    NaN     False   \n",
       "2  [{'e': 'text', 't': 'Article'}]  ...              0    NaN     False   \n",
       "3                               []  ...              0    NaN     False   \n",
       "4                               []  ...              0    NaN     False   \n",
       "\n",
       "  post_hint                                            preview  \\\n",
       "0       NaN                                                NaN   \n",
       "1      self  {'images': [{'source': {'url': 'https://extern...   \n",
       "2      link  {'images': [{'source': {'url': 'https://extern...   \n",
       "3      link  {'images': [{'source': {'url': 'https://extern...   \n",
       "4      link  {'images': [{'source': {'url': 'https://extern...   \n",
       "\n",
       "                 link_flair_template_id  crosspost_parent_list  \\\n",
       "0                                   NaN                    NaN   \n",
       "1                                   NaN                    NaN   \n",
       "2  254cc416-e885-11e4-b88d-22000bc18061                    NaN   \n",
       "3                                   NaN                    NaN   \n",
       "4                                   NaN                    NaN   \n",
       "\n",
       "  crosspost_parent  media_metadata author_cakeday  \n",
       "0              NaN             NaN            NaN  \n",
       "1              NaN             NaN            NaN  \n",
       "2              NaN             NaN            NaN  \n",
       "3              NaN             NaN            NaN  \n",
       "4              NaN             NaN            NaN  \n",
       "\n",
       "[5 rows x 109 columns]"
      ]
     },
     "execution_count": 2,
     "metadata": {},
     "output_type": "execute_result"
    }
   ],
   "source": [
    "android_df = pd.read_csv('../data/android_dev.csv')\n",
    "android_df.drop(['Unnamed: 0'], axis=1, inplace=True)\n",
    "android_df.drop_duplicates(keep = 'first', inplace = True) \n",
    "android_df.head()"
   ]
  },
  {
   "cell_type": "code",
   "execution_count": 3,
   "metadata": {
    "pycharm": {
     "is_executing": false,
     "name": "#%%\n"
    }
   },
   "outputs": [
    {
     "data": {
      "text/html": [
       "<div>\n",
       "<style scoped>\n",
       "    .dataframe tbody tr th:only-of-type {\n",
       "        vertical-align: middle;\n",
       "    }\n",
       "\n",
       "    .dataframe tbody tr th {\n",
       "        vertical-align: top;\n",
       "    }\n",
       "\n",
       "    .dataframe thead th {\n",
       "        text-align: right;\n",
       "    }\n",
       "</style>\n",
       "<table border=\"1\" class=\"dataframe\">\n",
       "  <thead>\n",
       "    <tr style=\"text-align: right;\">\n",
       "      <th></th>\n",
       "      <th>approved_at_utc</th>\n",
       "      <th>subreddit</th>\n",
       "      <th>selftext</th>\n",
       "      <th>author_fullname</th>\n",
       "      <th>saved</th>\n",
       "      <th>mod_reason_title</th>\n",
       "      <th>gilded</th>\n",
       "      <th>clicked</th>\n",
       "      <th>title</th>\n",
       "      <th>link_flair_richtext</th>\n",
       "      <th>...</th>\n",
       "      <th>url</th>\n",
       "      <th>subreddit_subscribers</th>\n",
       "      <th>created_utc</th>\n",
       "      <th>num_crossposts</th>\n",
       "      <th>media</th>\n",
       "      <th>is_video</th>\n",
       "      <th>crosspost_parent_list</th>\n",
       "      <th>crosspost_parent</th>\n",
       "      <th>media_metadata</th>\n",
       "      <th>author_cakeday</th>\n",
       "    </tr>\n",
       "  </thead>\n",
       "  <tbody>\n",
       "    <tr>\n",
       "      <th>0</th>\n",
       "      <td>NaN</td>\n",
       "      <td>iOSProgramming</td>\n",
       "      <td>Welcome to r/iOSProgramming! Click the links b...</td>\n",
       "      <td>t2_3h859</td>\n",
       "      <td>False</td>\n",
       "      <td>NaN</td>\n",
       "      <td>0</td>\n",
       "      <td>False</td>\n",
       "      <td>READ BEFORE POSTING / Megathread Hub</td>\n",
       "      <td>[{'e': 'text', 't': 'Announcement'}]</td>\n",
       "      <td>...</td>\n",
       "      <td>https://www.reddit.com/r/iOSProgramming/commen...</td>\n",
       "      <td>66427</td>\n",
       "      <td>1.578431e+09</td>\n",
       "      <td>0</td>\n",
       "      <td>NaN</td>\n",
       "      <td>False</td>\n",
       "      <td>NaN</td>\n",
       "      <td>NaN</td>\n",
       "      <td>NaN</td>\n",
       "      <td>NaN</td>\n",
       "    </tr>\n",
       "    <tr>\n",
       "      <th>1</th>\n",
       "      <td>NaN</td>\n",
       "      <td>iOSProgramming</td>\n",
       "      <td>Welcome to the weekly r/iOSProgramming simple ...</td>\n",
       "      <td>t2_6l4z3</td>\n",
       "      <td>False</td>\n",
       "      <td>NaN</td>\n",
       "      <td>0</td>\n",
       "      <td>False</td>\n",
       "      <td>Simple Questions Megathread—January 13, 2020</td>\n",
       "      <td>[{'e': 'text', 't': 'Weekly'}]</td>\n",
       "      <td>...</td>\n",
       "      <td>https://www.reddit.com/r/iOSProgramming/commen...</td>\n",
       "      <td>66427</td>\n",
       "      <td>1.578946e+09</td>\n",
       "      <td>0</td>\n",
       "      <td>NaN</td>\n",
       "      <td>False</td>\n",
       "      <td>NaN</td>\n",
       "      <td>NaN</td>\n",
       "      <td>NaN</td>\n",
       "      <td>NaN</td>\n",
       "    </tr>\n",
       "    <tr>\n",
       "      <th>2</th>\n",
       "      <td>NaN</td>\n",
       "      <td>iOSProgramming</td>\n",
       "      <td>NaN</td>\n",
       "      <td>t2_dw88zzd</td>\n",
       "      <td>False</td>\n",
       "      <td>NaN</td>\n",
       "      <td>0</td>\n",
       "      <td>False</td>\n",
       "      <td>Pull to Refresh in SwiftUI</td>\n",
       "      <td>[{'e': 'text', 't': 'Article'}]</td>\n",
       "      <td>...</td>\n",
       "      <td>https://link.medium.com/1QgLlY4ho3</td>\n",
       "      <td>66427</td>\n",
       "      <td>1.579486e+09</td>\n",
       "      <td>0</td>\n",
       "      <td>NaN</td>\n",
       "      <td>False</td>\n",
       "      <td>NaN</td>\n",
       "      <td>NaN</td>\n",
       "      <td>NaN</td>\n",
       "      <td>NaN</td>\n",
       "    </tr>\n",
       "    <tr>\n",
       "      <th>3</th>\n",
       "      <td>NaN</td>\n",
       "      <td>iOSProgramming</td>\n",
       "      <td>Keeping up with the newest frameworks and tool...</td>\n",
       "      <td>t2_3hizc4vt</td>\n",
       "      <td>False</td>\n",
       "      <td>NaN</td>\n",
       "      <td>0</td>\n",
       "      <td>False</td>\n",
       "      <td>Developer's Guide to Common Vulnerabilities an...</td>\n",
       "      <td>[{'e': 'text', 't': 'Article'}]</td>\n",
       "      <td>...</td>\n",
       "      <td>https://www.reddit.com/r/iOSProgramming/commen...</td>\n",
       "      <td>66427</td>\n",
       "      <td>1.579524e+09</td>\n",
       "      <td>0</td>\n",
       "      <td>NaN</td>\n",
       "      <td>False</td>\n",
       "      <td>NaN</td>\n",
       "      <td>NaN</td>\n",
       "      <td>NaN</td>\n",
       "      <td>NaN</td>\n",
       "    </tr>\n",
       "    <tr>\n",
       "      <th>4</th>\n",
       "      <td>NaN</td>\n",
       "      <td>iOSProgramming</td>\n",
       "      <td>People tell me there are 10x more web jobs tha...</td>\n",
       "      <td>t2_kgbts</td>\n",
       "      <td>False</td>\n",
       "      <td>NaN</td>\n",
       "      <td>0</td>\n",
       "      <td>False</td>\n",
       "      <td>Is there a shortage of iOS Developers?</td>\n",
       "      <td>[{'e': 'text', 't': 'Question'}]</td>\n",
       "      <td>...</td>\n",
       "      <td>https://www.reddit.com/r/iOSProgramming/commen...</td>\n",
       "      <td>66427</td>\n",
       "      <td>1.579452e+09</td>\n",
       "      <td>0</td>\n",
       "      <td>NaN</td>\n",
       "      <td>False</td>\n",
       "      <td>NaN</td>\n",
       "      <td>NaN</td>\n",
       "      <td>NaN</td>\n",
       "      <td>NaN</td>\n",
       "    </tr>\n",
       "  </tbody>\n",
       "</table>\n",
       "<p>5 rows × 109 columns</p>\n",
       "</div>"
      ],
      "text/plain": [
       "   approved_at_utc       subreddit  \\\n",
       "0              NaN  iOSProgramming   \n",
       "1              NaN  iOSProgramming   \n",
       "2              NaN  iOSProgramming   \n",
       "3              NaN  iOSProgramming   \n",
       "4              NaN  iOSProgramming   \n",
       "\n",
       "                                            selftext author_fullname  saved  \\\n",
       "0  Welcome to r/iOSProgramming! Click the links b...        t2_3h859  False   \n",
       "1  Welcome to the weekly r/iOSProgramming simple ...        t2_6l4z3  False   \n",
       "2                                                NaN      t2_dw88zzd  False   \n",
       "3  Keeping up with the newest frameworks and tool...     t2_3hizc4vt  False   \n",
       "4  People tell me there are 10x more web jobs tha...        t2_kgbts  False   \n",
       "\n",
       "   mod_reason_title  gilded  clicked  \\\n",
       "0               NaN       0    False   \n",
       "1               NaN       0    False   \n",
       "2               NaN       0    False   \n",
       "3               NaN       0    False   \n",
       "4               NaN       0    False   \n",
       "\n",
       "                                               title  \\\n",
       "0               READ BEFORE POSTING / Megathread Hub   \n",
       "1       Simple Questions Megathread—January 13, 2020   \n",
       "2                         Pull to Refresh in SwiftUI   \n",
       "3  Developer's Guide to Common Vulnerabilities an...   \n",
       "4             Is there a shortage of iOS Developers?   \n",
       "\n",
       "                    link_flair_richtext  ...  \\\n",
       "0  [{'e': 'text', 't': 'Announcement'}]  ...   \n",
       "1        [{'e': 'text', 't': 'Weekly'}]  ...   \n",
       "2       [{'e': 'text', 't': 'Article'}]  ...   \n",
       "3       [{'e': 'text', 't': 'Article'}]  ...   \n",
       "4      [{'e': 'text', 't': 'Question'}]  ...   \n",
       "\n",
       "                                                 url  subreddit_subscribers  \\\n",
       "0  https://www.reddit.com/r/iOSProgramming/commen...                  66427   \n",
       "1  https://www.reddit.com/r/iOSProgramming/commen...                  66427   \n",
       "2                 https://link.medium.com/1QgLlY4ho3                  66427   \n",
       "3  https://www.reddit.com/r/iOSProgramming/commen...                  66427   \n",
       "4  https://www.reddit.com/r/iOSProgramming/commen...                  66427   \n",
       "\n",
       "    created_utc num_crossposts  media  is_video  crosspost_parent_list  \\\n",
       "0  1.578431e+09              0    NaN     False                    NaN   \n",
       "1  1.578946e+09              0    NaN     False                    NaN   \n",
       "2  1.579486e+09              0    NaN     False                    NaN   \n",
       "3  1.579524e+09              0    NaN     False                    NaN   \n",
       "4  1.579452e+09              0    NaN     False                    NaN   \n",
       "\n",
       "  crosspost_parent  media_metadata author_cakeday  \n",
       "0              NaN             NaN            NaN  \n",
       "1              NaN             NaN            NaN  \n",
       "2              NaN             NaN            NaN  \n",
       "3              NaN             NaN            NaN  \n",
       "4              NaN             NaN            NaN  \n",
       "\n",
       "[5 rows x 109 columns]"
      ]
     },
     "execution_count": 3,
     "metadata": {},
     "output_type": "execute_result"
    }
   ],
   "source": [
    "ios_df = pd.read_csv('../data/ios_programming.csv')\n",
    "ios_df.drop(['Unnamed: 0'], axis=1, inplace=True)\n",
    "ios_df.drop_duplicates(keep = 'first', inplace = True) \n",
    "ios_df.head()"
   ]
  },
  {
   "cell_type": "code",
   "execution_count": 4,
   "metadata": {
    "pycharm": {
     "is_executing": false,
     "name": "#%%\n"
    }
   },
   "outputs": [
    {
     "data": {
      "text/html": [
       "<div>\n",
       "<style scoped>\n",
       "    .dataframe tbody tr th:only-of-type {\n",
       "        vertical-align: middle;\n",
       "    }\n",
       "\n",
       "    .dataframe tbody tr th {\n",
       "        vertical-align: top;\n",
       "    }\n",
       "\n",
       "    .dataframe thead th {\n",
       "        text-align: right;\n",
       "    }\n",
       "</style>\n",
       "<table border=\"1\" class=\"dataframe\">\n",
       "  <thead>\n",
       "    <tr style=\"text-align: right;\">\n",
       "      <th></th>\n",
       "      <th>approved_at_utc</th>\n",
       "      <th>subreddit</th>\n",
       "      <th>selftext</th>\n",
       "      <th>author_fullname</th>\n",
       "      <th>saved</th>\n",
       "      <th>mod_reason_title</th>\n",
       "      <th>gilded</th>\n",
       "      <th>clicked</th>\n",
       "      <th>title</th>\n",
       "      <th>link_flair_richtext</th>\n",
       "      <th>...</th>\n",
       "      <th>num_crossposts</th>\n",
       "      <th>media</th>\n",
       "      <th>is_video</th>\n",
       "      <th>post_hint</th>\n",
       "      <th>preview</th>\n",
       "      <th>link_flair_template_id</th>\n",
       "      <th>crosspost_parent_list</th>\n",
       "      <th>crosspost_parent</th>\n",
       "      <th>media_metadata</th>\n",
       "      <th>author_cakeday</th>\n",
       "    </tr>\n",
       "  </thead>\n",
       "  <tbody>\n",
       "    <tr>\n",
       "      <th>0</th>\n",
       "      <td>NaN</td>\n",
       "      <td>androiddev</td>\n",
       "      <td>Looking for Android developers? Heard about a ...</td>\n",
       "      <td>t2_6l4z3</td>\n",
       "      <td>False</td>\n",
       "      <td>NaN</td>\n",
       "      <td>0</td>\n",
       "      <td>False</td>\n",
       "      <td>Weekly \"who's hiring\" thread!</td>\n",
       "      <td>[]</td>\n",
       "      <td>...</td>\n",
       "      <td>0</td>\n",
       "      <td>NaN</td>\n",
       "      <td>False</td>\n",
       "      <td>NaN</td>\n",
       "      <td>NaN</td>\n",
       "      <td>NaN</td>\n",
       "      <td>NaN</td>\n",
       "      <td>NaN</td>\n",
       "      <td>NaN</td>\n",
       "      <td>NaN</td>\n",
       "    </tr>\n",
       "    <tr>\n",
       "      <th>1</th>\n",
       "      <td>NaN</td>\n",
       "      <td>androiddev</td>\n",
       "      <td>This thread is for simple questions that don't...</td>\n",
       "      <td>t2_6l4z3</td>\n",
       "      <td>False</td>\n",
       "      <td>NaN</td>\n",
       "      <td>0</td>\n",
       "      <td>False</td>\n",
       "      <td>Weekly Questions Thread - January 20, 2020</td>\n",
       "      <td>[]</td>\n",
       "      <td>...</td>\n",
       "      <td>0</td>\n",
       "      <td>NaN</td>\n",
       "      <td>False</td>\n",
       "      <td>self</td>\n",
       "      <td>{'images': [{'source': {'url': 'https://extern...</td>\n",
       "      <td>NaN</td>\n",
       "      <td>NaN</td>\n",
       "      <td>NaN</td>\n",
       "      <td>NaN</td>\n",
       "      <td>NaN</td>\n",
       "    </tr>\n",
       "    <tr>\n",
       "      <th>2</th>\n",
       "      <td>NaN</td>\n",
       "      <td>androiddev</td>\n",
       "      <td>NaN</td>\n",
       "      <td>t2_iassk</td>\n",
       "      <td>False</td>\n",
       "      <td>NaN</td>\n",
       "      <td>0</td>\n",
       "      <td>False</td>\n",
       "      <td>Telegram-like theme switching with reveal anim...</td>\n",
       "      <td>[{'e': 'text', 't': 'Article'}]</td>\n",
       "      <td>...</td>\n",
       "      <td>0</td>\n",
       "      <td>NaN</td>\n",
       "      <td>False</td>\n",
       "      <td>link</td>\n",
       "      <td>{'images': [{'source': {'url': 'https://extern...</td>\n",
       "      <td>254cc416-e885-11e4-b88d-22000bc18061</td>\n",
       "      <td>NaN</td>\n",
       "      <td>NaN</td>\n",
       "      <td>NaN</td>\n",
       "      <td>NaN</td>\n",
       "    </tr>\n",
       "    <tr>\n",
       "      <th>3</th>\n",
       "      <td>NaN</td>\n",
       "      <td>androiddev</td>\n",
       "      <td>NaN</td>\n",
       "      <td>t2_3vf8x</td>\n",
       "      <td>False</td>\n",
       "      <td>NaN</td>\n",
       "      <td>0</td>\n",
       "      <td>False</td>\n",
       "      <td>The Power of Types for Errors</td>\n",
       "      <td>[]</td>\n",
       "      <td>...</td>\n",
       "      <td>0</td>\n",
       "      <td>NaN</td>\n",
       "      <td>False</td>\n",
       "      <td>link</td>\n",
       "      <td>{'images': [{'source': {'url': 'https://extern...</td>\n",
       "      <td>NaN</td>\n",
       "      <td>NaN</td>\n",
       "      <td>NaN</td>\n",
       "      <td>NaN</td>\n",
       "      <td>NaN</td>\n",
       "    </tr>\n",
       "    <tr>\n",
       "      <th>4</th>\n",
       "      <td>NaN</td>\n",
       "      <td>androiddev</td>\n",
       "      <td>NaN</td>\n",
       "      <td>t2_45tfbxxq</td>\n",
       "      <td>False</td>\n",
       "      <td>NaN</td>\n",
       "      <td>0</td>\n",
       "      <td>False</td>\n",
       "      <td>Everything you need to know about Memory Leaks...</td>\n",
       "      <td>[]</td>\n",
       "      <td>...</td>\n",
       "      <td>0</td>\n",
       "      <td>NaN</td>\n",
       "      <td>False</td>\n",
       "      <td>link</td>\n",
       "      <td>{'images': [{'source': {'url': 'https://extern...</td>\n",
       "      <td>NaN</td>\n",
       "      <td>NaN</td>\n",
       "      <td>NaN</td>\n",
       "      <td>NaN</td>\n",
       "      <td>NaN</td>\n",
       "    </tr>\n",
       "  </tbody>\n",
       "</table>\n",
       "<p>5 rows × 109 columns</p>\n",
       "</div>"
      ],
      "text/plain": [
       "   approved_at_utc   subreddit  \\\n",
       "0              NaN  androiddev   \n",
       "1              NaN  androiddev   \n",
       "2              NaN  androiddev   \n",
       "3              NaN  androiddev   \n",
       "4              NaN  androiddev   \n",
       "\n",
       "                                            selftext author_fullname  saved  \\\n",
       "0  Looking for Android developers? Heard about a ...        t2_6l4z3  False   \n",
       "1  This thread is for simple questions that don't...        t2_6l4z3  False   \n",
       "2                                                NaN        t2_iassk  False   \n",
       "3                                                NaN        t2_3vf8x  False   \n",
       "4                                                NaN     t2_45tfbxxq  False   \n",
       "\n",
       "   mod_reason_title  gilded  clicked  \\\n",
       "0               NaN       0    False   \n",
       "1               NaN       0    False   \n",
       "2               NaN       0    False   \n",
       "3               NaN       0    False   \n",
       "4               NaN       0    False   \n",
       "\n",
       "                                               title  \\\n",
       "0                      Weekly \"who's hiring\" thread!   \n",
       "1         Weekly Questions Thread - January 20, 2020   \n",
       "2  Telegram-like theme switching with reveal anim...   \n",
       "3                      The Power of Types for Errors   \n",
       "4  Everything you need to know about Memory Leaks...   \n",
       "\n",
       "               link_flair_richtext  ... num_crossposts  media  is_video  \\\n",
       "0                               []  ...              0    NaN     False   \n",
       "1                               []  ...              0    NaN     False   \n",
       "2  [{'e': 'text', 't': 'Article'}]  ...              0    NaN     False   \n",
       "3                               []  ...              0    NaN     False   \n",
       "4                               []  ...              0    NaN     False   \n",
       "\n",
       "  post_hint                                            preview  \\\n",
       "0       NaN                                                NaN   \n",
       "1      self  {'images': [{'source': {'url': 'https://extern...   \n",
       "2      link  {'images': [{'source': {'url': 'https://extern...   \n",
       "3      link  {'images': [{'source': {'url': 'https://extern...   \n",
       "4      link  {'images': [{'source': {'url': 'https://extern...   \n",
       "\n",
       "                 link_flair_template_id  crosspost_parent_list  \\\n",
       "0                                   NaN                    NaN   \n",
       "1                                   NaN                    NaN   \n",
       "2  254cc416-e885-11e4-b88d-22000bc18061                    NaN   \n",
       "3                                   NaN                    NaN   \n",
       "4                                   NaN                    NaN   \n",
       "\n",
       "  crosspost_parent  media_metadata author_cakeday  \n",
       "0              NaN             NaN            NaN  \n",
       "1              NaN             NaN            NaN  \n",
       "2              NaN             NaN            NaN  \n",
       "3              NaN             NaN            NaN  \n",
       "4              NaN             NaN            NaN  \n",
       "\n",
       "[5 rows x 109 columns]"
      ]
     },
     "execution_count": 4,
     "metadata": {},
     "output_type": "execute_result"
    }
   ],
   "source": [
    "combined_df = pd.concat([android_df, ios_df], sort=False)\n",
    "combined_df.head()"
   ]
  },
  {
   "cell_type": "markdown",
   "metadata": {
    "pycharm": {
     "name": "#%% md\n"
    }
   },
   "source": [
    "## Pre-processing"
   ]
  },
  {
   "cell_type": "code",
   "execution_count": 5,
   "metadata": {
    "pycharm": {
     "is_executing": false
    }
   },
   "outputs": [
    {
     "data": {
      "text/plain": [
       "approved_at_utc           1960\n",
       "subreddit                    0\n",
       "selftext                   526\n",
       "author_fullname              6\n",
       "saved                        0\n",
       "                          ... \n",
       "link_flair_template_id    1019\n",
       "crosspost_parent_list     1919\n",
       "crosspost_parent          1919\n",
       "media_metadata            1883\n",
       "author_cakeday            1955\n",
       "Length: 109, dtype: int64"
      ]
     },
     "execution_count": 5,
     "metadata": {},
     "output_type": "execute_result"
    }
   ],
   "source": [
    "combined_df.isnull().sum()"
   ]
  },
  {
   "cell_type": "code",
   "execution_count": 6,
   "metadata": {
    "pycharm": {
     "is_executing": false
    }
   },
   "outputs": [
    {
     "data": {
      "text/plain": [
       "text        1848\n",
       "richtext     106\n",
       "Name: author_flair_type, dtype: int64"
      ]
     },
     "execution_count": 6,
     "metadata": {},
     "output_type": "execute_result"
    }
   ],
   "source": [
    "combined_df['author_flair_type'].value_counts()"
   ]
  },
  {
   "cell_type": "code",
   "execution_count": 7,
   "metadata": {
    "pycharm": {
     "is_executing": false
    }
   },
   "outputs": [
    {
     "data": {
      "text/plain": [
       "richtext    1059\n",
       "text         901\n",
       "Name: link_flair_type, dtype: int64"
      ]
     },
     "execution_count": 7,
     "metadata": {},
     "output_type": "execute_result"
    }
   ],
   "source": [
    "combined_df['link_flair_type'].value_counts()"
   ]
  },
  {
   "cell_type": "code",
   "execution_count": 8,
   "metadata": {
    "pycharm": {
     "name": "#%%\n"
    }
   },
   "outputs": [],
   "source": [
    "combined_df['subreddit'] = combined_df['subreddit'].map({'androiddev': 1, 'iOSProgramming': 0})"
   ]
  },
  {
   "cell_type": "code",
   "execution_count": 9,
   "metadata": {
    "pycharm": {
     "name": "#%%\n"
    }
   },
   "outputs": [],
   "source": [
    "combined_df = combined_df[['id', 'title', 'name', 'media', \n",
    "                           'is_video', 'permalink', 'author_flair_type',\n",
    "                           'link_flair_type', 'created', 'created_utc', 'selftext',\n",
    "                           'author_fullname', 'subreddit']]"
   ]
  },
  {
   "cell_type": "markdown",
   "metadata": {},
   "source": [
    "## Exploratory Data Analysis"
   ]
  },
  {
   "cell_type": "code",
   "execution_count": 10,
   "metadata": {},
   "outputs": [],
   "source": [
    "df_1 = combined_df.copy()"
   ]
  },
  {
   "cell_type": "code",
   "execution_count": 11,
   "metadata": {},
   "outputs": [],
   "source": [
    "df_1.dropna(subset=['selftext'], inplace=True)"
   ]
  },
  {
   "cell_type": "code",
   "execution_count": 12,
   "metadata": {
    "pycharm": {
     "is_executing": false
    }
   },
   "outputs": [],
   "source": [
    "# Import lemmatizer\n",
    "lemmatizer = WordNetLemmatizer()\n",
    "\n",
    "def review_to_words(raw_post):\n",
    "    # Function to convert a raw reddit post to a string of words\n",
    "    # The input is a single string (a raw reddit post), and \n",
    "    # the output is a single string (a preprocessed reddit post)\n",
    "    \n",
    "    # 1. Remove HTML.\n",
    "    post_text = BeautifulSoup(raw_post).get_text()\n",
    "    \n",
    "    # 2. Remove non-letters.\n",
    "    letters_only = re.sub(\"[^a-zA-Z]\", \" \", post_text)\n",
    "    letters_only = re.sub(r'^https?:\\/\\/.*[\\r\\n]*', ' ', letters_only)\n",
    "    \n",
    "    # 3. Convert to lower case, split into individual words.\n",
    "    words = letters_only.lower().split()\n",
    "    \n",
    "    # 4. In Python, searching a set is much faster than searching\n",
    "    # a list, so convert the stop words to a set.\n",
    "    stops = set(stopwords.words('english'))\n",
    "    \n",
    "    # 5. Remove stop words.\n",
    "    meaningful_words = [w for w in words if not w in stops]\n",
    "    \n",
    "    # 6. Lemmatize words\n",
    "    lemmatized_words = [lemmatizer.lemmatize(w) for w in meaningful_words]\n",
    "    \n",
    "    # 7. Join the words back into one string separated by space, \n",
    "    # and return the result.\n",
    "    return(\" \".join(meaningful_words))"
   ]
  },
  {
   "cell_type": "markdown",
   "metadata": {},
   "source": [
    "**Android**"
   ]
  },
  {
   "cell_type": "code",
   "execution_count": 13,
   "metadata": {},
   "outputs": [],
   "source": [
    "df_1_android = df_1.loc[df_1['subreddit'] == 1]"
   ]
  },
  {
   "cell_type": "code",
   "execution_count": 14,
   "metadata": {},
   "outputs": [],
   "source": [
    "df_1_android['selftext'] = df_1_android['selftext'].apply(review_to_words)"
   ]
  },
  {
   "cell_type": "code",
   "execution_count": 15,
   "metadata": {},
   "outputs": [
    {
     "name": "stdout",
     "output_type": "stream",
     "text": [
      "Number of features: 6596\n"
     ]
    },
    {
     "data": {
      "text/plain": [
       "app        910\n",
       "android    805\n",
       "https      519\n",
       "com        484\n",
       "google     348\n",
       "apps       282\n",
       "use        254\n",
       "like       251\n",
       "using      234\n",
       "new        234\n",
       "java       218\n",
       "play       207\n",
       "know       202\n",
       "want       179\n",
       "code       179\n",
       "store      172\n",
       "make       159\n",
       "user       155\n",
       "way        155\n",
       "need       141\n",
       "dtype: int64"
      ]
     },
     "execution_count": 15,
     "metadata": {},
     "output_type": "execute_result"
    }
   ],
   "source": [
    "cvec = CountVectorizer(stop_words='english')\n",
    "cvec.fit(df_1_android['selftext'])\n",
    "\n",
    "len_features = len(cvec.get_feature_names())\n",
    "print('Number of features: {}'.format(len_features))\n",
    "\n",
    "df_1_android_cv = pd.DataFrame(cvec.transform(df_1_android['selftext']).todense(),columns=cvec.get_feature_names())\n",
    "\n",
    "top_android = df_1_android_cv.sum(axis=0)\n",
    "top_android.sort_values(ascending = False).head(20)"
   ]
  },
  {
   "cell_type": "code",
   "execution_count": 16,
   "metadata": {},
   "outputs": [
    {
     "data": {
      "text/html": [
       "<div>\n",
       "<style scoped>\n",
       "    .dataframe tbody tr th:only-of-type {\n",
       "        vertical-align: middle;\n",
       "    }\n",
       "\n",
       "    .dataframe tbody tr th {\n",
       "        vertical-align: top;\n",
       "    }\n",
       "\n",
       "    .dataframe thead th {\n",
       "        text-align: right;\n",
       "    }\n",
       "</style>\n",
       "<table border=\"1\" class=\"dataframe\">\n",
       "  <thead>\n",
       "    <tr style=\"text-align: right;\">\n",
       "      <th></th>\n",
       "      <th>word</th>\n",
       "      <th>count</th>\n",
       "      <th>freq</th>\n",
       "    </tr>\n",
       "  </thead>\n",
       "  <tbody>\n",
       "    <tr>\n",
       "      <th>309</th>\n",
       "      <td>app</td>\n",
       "      <td>910</td>\n",
       "      <td>1.256906</td>\n",
       "    </tr>\n",
       "    <tr>\n",
       "      <th>247</th>\n",
       "      <td>android</td>\n",
       "      <td>805</td>\n",
       "      <td>1.111878</td>\n",
       "    </tr>\n",
       "    <tr>\n",
       "      <th>2804</th>\n",
       "      <td>https</td>\n",
       "      <td>519</td>\n",
       "      <td>0.716851</td>\n",
       "    </tr>\n",
       "    <tr>\n",
       "      <th>1066</th>\n",
       "      <td>com</td>\n",
       "      <td>484</td>\n",
       "      <td>0.668508</td>\n",
       "    </tr>\n",
       "    <tr>\n",
       "      <th>2560</th>\n",
       "      <td>google</td>\n",
       "      <td>348</td>\n",
       "      <td>0.480663</td>\n",
       "    </tr>\n",
       "    <tr>\n",
       "      <th>353</th>\n",
       "      <td>apps</td>\n",
       "      <td>282</td>\n",
       "      <td>0.389503</td>\n",
       "    </tr>\n",
       "    <tr>\n",
       "      <th>6247</th>\n",
       "      <td>use</td>\n",
       "      <td>254</td>\n",
       "      <td>0.350829</td>\n",
       "    </tr>\n",
       "    <tr>\n",
       "      <th>3380</th>\n",
       "      <td>like</td>\n",
       "      <td>251</td>\n",
       "      <td>0.346685</td>\n",
       "    </tr>\n",
       "    <tr>\n",
       "      <th>6263</th>\n",
       "      <td>using</td>\n",
       "      <td>234</td>\n",
       "      <td>0.323204</td>\n",
       "    </tr>\n",
       "    <tr>\n",
       "      <th>3915</th>\n",
       "      <td>new</td>\n",
       "      <td>234</td>\n",
       "      <td>0.323204</td>\n",
       "    </tr>\n",
       "  </tbody>\n",
       "</table>\n",
       "</div>"
      ],
      "text/plain": [
       "         word  count      freq\n",
       "309       app    910  1.256906\n",
       "247   android    805  1.111878\n",
       "2804    https    519  0.716851\n",
       "1066      com    484  0.668508\n",
       "2560   google    348  0.480663\n",
       "353      apps    282  0.389503\n",
       "6247      use    254  0.350829\n",
       "3380     like    251  0.346685\n",
       "6263    using    234  0.323204\n",
       "3915      new    234  0.323204"
      ]
     },
     "execution_count": 16,
     "metadata": {},
     "output_type": "execute_result"
    }
   ],
   "source": [
    "df_top_android = top_android.to_frame(name='count')\n",
    "df_top_android['word'] = df_top_android.index\n",
    "df_top_android.reset_index(drop=True, inplace=True)\n",
    "df_top_android['freq'] = df_top_android['count'] / len(df_1_android)\n",
    "\n",
    "cols = ['word','count','freq']\n",
    "df_top_android = df_top_android[cols]\n",
    "df_top_android.sort_values(by='count',ascending=False, inplace=True)\n",
    "df_top_android.head(10)"
   ]
  },
  {
   "cell_type": "code",
   "execution_count": 17,
   "metadata": {},
   "outputs": [
    {
     "data": {
      "image/png": "[encoded data removed]",
      "text/plain": [
       "<Figure size 864x504 with 1 Axes>"
      ]
     },
     "metadata": {
      "needs_background": "light"
     },
     "output_type": "display_data"
    }
   ],
   "source": [
    "plotter.plot_horizontal_barchart(\"Developing Android Apps: Top 20 Words\", df_top_android)\n",
    "plt.savefig('../images/barchart_top20words_android.png', transparent=True)"
   ]
  },
  {
   "cell_type": "markdown",
   "metadata": {},
   "source": [
    "**iOS**"
   ]
  },
  {
   "cell_type": "code",
   "execution_count": 18,
   "metadata": {},
   "outputs": [],
   "source": [
    "df_1_ios = df_1.loc[df_1['subreddit'] == 0]"
   ]
  },
  {
   "cell_type": "code",
   "execution_count": 19,
   "metadata": {},
   "outputs": [],
   "source": [
    "df_1_ios['selftext'] = df_1_ios['selftext'].apply(review_to_words)"
   ]
  },
  {
   "cell_type": "code",
   "execution_count": 20,
   "metadata": {},
   "outputs": [
    {
     "name": "stdout",
     "output_type": "stream",
     "text": [
      "Number of features: 6407\n"
     ]
    },
    {
     "data": {
      "text/plain": [
       "app          823\n",
       "https        387\n",
       "com          359\n",
       "ios          348\n",
       "like         270\n",
       "view         248\n",
       "use          239\n",
       "apple        234\n",
       "using        220\n",
       "let          217\n",
       "time         213\n",
       "code         206\n",
       "data         187\n",
       "want         185\n",
       "swift        179\n",
       "know         178\n",
       "help         162\n",
       "new          157\n",
       "xcode        153\n",
       "developer    148\n",
       "dtype: int64"
      ]
     },
     "execution_count": 20,
     "metadata": {},
     "output_type": "execute_result"
    }
   ],
   "source": [
    "cvec = CountVectorizer(stop_words='english')\n",
    "cvec.fit(df_1_ios['selftext'])\n",
    "\n",
    "len_features = len(cvec.get_feature_names())\n",
    "print('Number of features: {}'.format(len_features))\n",
    "\n",
    "df_1_ios_cv = pd.DataFrame(cvec.transform(df_1_ios['selftext']).todense(),columns=cvec.get_feature_names())\n",
    "\n",
    "top_ios = df_1_ios_cv.sum(axis=0)\n",
    "top_ios.sort_values(ascending = False).head(20)"
   ]
  },
  {
   "cell_type": "code",
   "execution_count": 21,
   "metadata": {},
   "outputs": [
    {
     "data": {
      "text/html": [
       "<div>\n",
       "<style scoped>\n",
       "    .dataframe tbody tr th:only-of-type {\n",
       "        vertical-align: middle;\n",
       "    }\n",
       "\n",
       "    .dataframe tbody tr th {\n",
       "        vertical-align: top;\n",
       "    }\n",
       "\n",
       "    .dataframe thead th {\n",
       "        text-align: right;\n",
       "    }\n",
       "</style>\n",
       "<table border=\"1\" class=\"dataframe\">\n",
       "  <thead>\n",
       "    <tr style=\"text-align: right;\">\n",
       "      <th></th>\n",
       "      <th>word</th>\n",
       "      <th>count</th>\n",
       "      <th>freq</th>\n",
       "    </tr>\n",
       "  </thead>\n",
       "  <tbody>\n",
       "    <tr>\n",
       "      <th>264</th>\n",
       "      <td>app</td>\n",
       "      <td>823</td>\n",
       "      <td>1.159155</td>\n",
       "    </tr>\n",
       "    <tr>\n",
       "      <th>2612</th>\n",
       "      <td>https</td>\n",
       "      <td>387</td>\n",
       "      <td>0.545070</td>\n",
       "    </tr>\n",
       "    <tr>\n",
       "      <th>1003</th>\n",
       "      <td>com</td>\n",
       "      <td>359</td>\n",
       "      <td>0.505634</td>\n",
       "    </tr>\n",
       "    <tr>\n",
       "      <th>2895</th>\n",
       "      <td>ios</td>\n",
       "      <td>348</td>\n",
       "      <td>0.490141</td>\n",
       "    </tr>\n",
       "    <tr>\n",
       "      <th>3170</th>\n",
       "      <td>like</td>\n",
       "      <td>270</td>\n",
       "      <td>0.380282</td>\n",
       "    </tr>\n",
       "    <tr>\n",
       "      <th>6158</th>\n",
       "      <td>view</td>\n",
       "      <td>248</td>\n",
       "      <td>0.349296</td>\n",
       "    </tr>\n",
       "    <tr>\n",
       "      <th>6057</th>\n",
       "      <td>use</td>\n",
       "      <td>239</td>\n",
       "      <td>0.336620</td>\n",
       "    </tr>\n",
       "    <tr>\n",
       "      <th>276</th>\n",
       "      <td>apple</td>\n",
       "      <td>234</td>\n",
       "      <td>0.329577</td>\n",
       "    </tr>\n",
       "    <tr>\n",
       "      <th>6080</th>\n",
       "      <td>using</td>\n",
       "      <td>220</td>\n",
       "      <td>0.309859</td>\n",
       "    </tr>\n",
       "    <tr>\n",
       "      <th>3147</th>\n",
       "      <td>let</td>\n",
       "      <td>217</td>\n",
       "      <td>0.305634</td>\n",
       "    </tr>\n",
       "  </tbody>\n",
       "</table>\n",
       "</div>"
      ],
      "text/plain": [
       "       word  count      freq\n",
       "264     app    823  1.159155\n",
       "2612  https    387  0.545070\n",
       "1003    com    359  0.505634\n",
       "2895    ios    348  0.490141\n",
       "3170   like    270  0.380282\n",
       "6158   view    248  0.349296\n",
       "6057    use    239  0.336620\n",
       "276   apple    234  0.329577\n",
       "6080  using    220  0.309859\n",
       "3147    let    217  0.305634"
      ]
     },
     "execution_count": 21,
     "metadata": {},
     "output_type": "execute_result"
    }
   ],
   "source": [
    "df_top_ios = top_ios.to_frame(name='count')\n",
    "df_top_ios['word'] = df_top_ios.index\n",
    "df_top_ios.reset_index(drop=True, inplace=True)\n",
    "df_top_ios['freq'] = df_top_ios['count'] / len(df_1_ios)\n",
    "\n",
    "cols = ['word','count','freq']\n",
    "df_top_ios = df_top_ios[cols]\n",
    "df_top_ios.sort_values(by='count',ascending=False, inplace=True)\n",
    "df_top_ios.head(10)"
   ]
  },
  {
   "cell_type": "code",
   "execution_count": 22,
   "metadata": {},
   "outputs": [
    {
     "data": {
      "image/png": "[encoded data removed]",
      "text/plain": [
       "<Figure size 864x504 with 1 Axes>"
      ]
     },
     "metadata": {},
     "output_type": "display_data"
    }
   ],
   "source": [
    "plotter.plot_horizontal_barchart(\"iOS Programming: Top 20 Words\", df_top_ios)\n",
    "plt.savefig('../images/barchart_top20words_ios.png', transparent=True)"
   ]
  },
  {
   "cell_type": "markdown",
   "metadata": {},
   "source": [
    "## Modeling"
   ]
  },
  {
   "cell_type": "markdown",
   "metadata": {},
   "source": [
    "### Baseline Accuracy"
   ]
  },
  {
   "cell_type": "code",
   "execution_count": 23,
   "metadata": {},
   "outputs": [
    {
     "data": {
      "text/plain": [
       "1    0.504881\n",
       "0    0.495119\n",
       "Name: subreddit, dtype: float64"
      ]
     },
     "execution_count": 23,
     "metadata": {},
     "output_type": "execute_result"
    }
   ],
   "source": [
    "df_1['subreddit'].value_counts(normalize=True)"
   ]
  },
  {
   "cell_type": "code",
   "execution_count": 24,
   "metadata": {},
   "outputs": [],
   "source": [
    "X = df_1['selftext'].apply(review_to_words)\n",
    "y = df_1['subreddit']"
   ]
  },
  {
   "cell_type": "code",
   "execution_count": 25,
   "metadata": {
    "pycharm": {
     "is_executing": false
    }
   },
   "outputs": [],
   "source": [
    "# Create train_test_split.\n",
    "X_train, X_test, y_train, y_test = train_test_split(X,\n",
    "                                                    y,\n",
    "                                                    stratify=y,\n",
    "                                                    test_size = 0.25,\n",
    "                                                    random_state = 42)"
   ]
  },
  {
   "cell_type": "markdown",
   "metadata": {
    "pycharm": {
     "is_executing": false
    }
   },
   "source": [
    "### Multinomial Naive Bayes"
   ]
  },
  {
   "cell_type": "code",
   "execution_count": 26,
   "metadata": {
    "pycharm": {
     "is_executing": false
    }
   },
   "outputs": [],
   "source": [
    "pipe = Pipeline([\n",
    "    ('cvec', CountVectorizer()),\n",
    "    ('tfidf', TfidfTransformer()),\n",
    "    ('nb', MultinomialNB())\n",
    "])"
   ]
  },
  {
   "cell_type": "code",
   "execution_count": 27,
   "metadata": {
    "pycharm": {
     "is_executing": false
    }
   },
   "outputs": [
    {
     "name": "stdout",
     "output_type": "stream",
     "text": [
      "0.843718066427019\n"
     ]
    },
    {
     "data": {
      "text/plain": [
       "{'cvec__max_df': 0.9,\n",
       " 'cvec__max_features': 3000,\n",
       " 'cvec__min_df': 2,\n",
       " 'cvec__ngram_range': (1, 2)}"
      ]
     },
     "execution_count": 27,
     "metadata": {},
     "output_type": "execute_result"
    }
   ],
   "source": [
    "pipe_params = {\n",
    "#     'cvec__tokenizer': [lemmatizer.lemmatize, p_stemmer.stem],\n",
    "    'cvec__max_features': [2500, 3000, 3500, 4000, 4500],\n",
    "    'cvec__min_df': [2, 3],\n",
    "    'cvec__max_df': [.9, .95],\n",
    "    'cvec__ngram_range': [(1,1), (1,2)]\n",
    "}\n",
    "gs = GridSearchCV(pipe, param_grid=pipe_params, cv=3, n_jobs=-1)\n",
    "gs.fit(X_train, y_train) # gs.fit(X_train['selftext'], y_train)\n",
    "print(gs.best_score_)\n",
    "gs.best_params_"
   ]
  },
  {
   "cell_type": "markdown",
   "metadata": {},
   "source": [
    "**Inference**"
   ]
  },
  {
   "cell_type": "code",
   "execution_count": 28,
   "metadata": {},
   "outputs": [],
   "source": [
    "# Probabilities for positive class\n",
    "pos_class_prob_sorted = gs.best_estimator_.named_steps['nb'].feature_log_prob_[0, :].argsort()\n",
    "\n",
    "# Probabilities for negative class\n",
    "neg_class_prob_sorted = gs.best_estimator_.named_steps['nb'].feature_log_prob_[1, :].argsort()"
   ]
  },
  {
   "cell_type": "code",
   "execution_count": 29,
   "metadata": {},
   "outputs": [],
   "source": [
    "# Getting the top features \n",
    "pos_top_features = np.take(gs.best_estimator_.named_steps['cvec'].get_feature_names(), pos_class_prob_sorted)\n",
    "neg_top_features = np.take(gs.best_estimator_.named_steps['cvec'].get_feature_names(), neg_class_prob_sorted)"
   ]
  },
  {
   "cell_type": "code",
   "execution_count": 30,
   "metadata": {},
   "outputs": [
    {
     "data": {
      "text/plain": [
       "['zip',\n",
       " 'maintain subreddit',\n",
       " 'major',\n",
       " 'make effort',\n",
       " 'make top',\n",
       " 'manifest',\n",
       " 'claim',\n",
       " 'may open',\n",
       " 'mediation',\n",
       " 'members',\n",
       " 'message compose',\n",
       " 'messaging',\n",
       " 'messaging app',\n",
       " 'checking sidebar',\n",
       " 'midi',\n",
       " 'clean architecture',\n",
       " 'migrate',\n",
       " 'migration code',\n",
       " 'mistake',\n",
       " 'mod']"
      ]
     },
     "execution_count": 30,
     "metadata": {},
     "output_type": "execute_result"
    }
   ],
   "source": [
    "# Top 20 features for the positive class\n",
    "pos_top_features[:20].tolist()"
   ]
  },
  {
   "cell_type": "code",
   "execution_count": 31,
   "metadata": {},
   "outputs": [
    {
     "data": {
      "text/plain": [
       "['getting started',\n",
       " 'forums developer',\n",
       " 'catch print',\n",
       " 'catalina',\n",
       " 'testflight',\n",
       " 'validation',\n",
       " 'frame width',\n",
       " 'frequent',\n",
       " 'var body',\n",
       " 'func',\n",
       " 'func collectionview',\n",
       " 'func viewdidload',\n",
       " 'textfield',\n",
       " 'vc',\n",
       " 'objective questions',\n",
       " 'protocols',\n",
       " 'videos play',\n",
       " 'objc',\n",
       " 'view controller',\n",
       " 'view controllers']"
      ]
     },
     "execution_count": 31,
     "metadata": {},
     "output_type": "execute_result"
    }
   ],
   "source": [
    "# Top 20 features for the negative class\n",
    "neg_top_features[:20].tolist()"
   ]
  },
  {
   "cell_type": "markdown",
   "metadata": {},
   "source": [
    "**Classification Metrics**"
   ]
  },
  {
   "cell_type": "code",
   "execution_count": 32,
   "metadata": {
    "pycharm": {
     "is_executing": false
    }
   },
   "outputs": [
    {
     "data": {
      "text/plain": [
       "0.9646511627906976"
      ]
     },
     "execution_count": 32,
     "metadata": {},
     "output_type": "execute_result"
    }
   ],
   "source": [
    "gs.score(X_train, y_train) "
   ]
  },
  {
   "cell_type": "code",
   "execution_count": 33,
   "metadata": {
    "pycharm": {
     "is_executing": false
    }
   },
   "outputs": [
    {
     "data": {
      "text/plain": [
       "0.841225626740947"
      ]
     },
     "execution_count": 33,
     "metadata": {},
     "output_type": "execute_result"
    }
   ],
   "source": [
    "gs.score(X_test, y_test)"
   ]
  },
  {
   "cell_type": "code",
   "execution_count": 34,
   "metadata": {
    "pycharm": {
     "is_executing": false
    }
   },
   "outputs": [],
   "source": [
    "predictions = gs.predict(X_test)"
   ]
  },
  {
   "cell_type": "code",
   "execution_count": 35,
   "metadata": {
    "pycharm": {
     "is_executing": false
    }
   },
   "outputs": [
    {
     "data": {
      "text/plain": [
       "array([[148,  30],\n",
       "       [ 27, 154]])"
      ]
     },
     "execution_count": 35,
     "metadata": {},
     "output_type": "execute_result"
    }
   ],
   "source": [
    "confusion_matrix(y_test, predictions)"
   ]
  },
  {
   "cell_type": "code",
   "execution_count": 36,
   "metadata": {
    "pycharm": {
     "is_executing": false
    }
   },
   "outputs": [],
   "source": [
    "tn, fp, fn, tp = confusion_matrix(y_test, predictions).ravel()"
   ]
  },
  {
   "cell_type": "code",
   "execution_count": 37,
   "metadata": {
    "pycharm": {
     "is_executing": false
    }
   },
   "outputs": [
    {
     "name": "stdout",
     "output_type": "stream",
     "text": [
      "True Negatives: 148\n",
      "False Positives: 30\n",
      "False Negatives: 27\n",
      "True Positives: 154\n"
     ]
    }
   ],
   "source": [
    "print(\"True Negatives: %s\" % tn)\n",
    "print(\"False Positives: %s\" % fp)\n",
    "print(\"False Negatives: %s\" % fn)\n",
    "print(\"True Positives: %s\" % tp)"
   ]
  },
  {
   "cell_type": "code",
   "execution_count": 38,
   "metadata": {},
   "outputs": [],
   "source": [
    "def get_classification_metrics(tn, fp, fn, tp):\n",
    "    accuracy = (tp + tn) / (tp + fp + tn + fn)\n",
    "    misclassification = 1 - accuracy\n",
    "    sensitivity = tp / (tp + fn)\n",
    "    specificity = tn / (tn + fp)\n",
    "    precision = tp / (tp + fp)\n",
    "    \n",
    "    print(\"Accuracy: %s\" % accuracy)\n",
    "    print(\"Misclassification: %s\" % misclassification)\n",
    "    print(\"Sensitivity: %s\" % sensitivity)\n",
    "    print(\"Specificity: %s\" % specificity)\n",
    "    print(\"Precision: %s\" % precision)"
   ]
  },
  {
   "cell_type": "code",
   "execution_count": 39,
   "metadata": {},
   "outputs": [
    {
     "name": "stdout",
     "output_type": "stream",
     "text": [
      "Accuracy: 0.841225626740947\n",
      "Misclassification: 0.15877437325905297\n",
      "Sensitivity: 0.850828729281768\n",
      "Specificity: 0.8314606741573034\n",
      "Precision: 0.8369565217391305\n"
     ]
    }
   ],
   "source": [
    "get_classification_metrics(tn, fp, fn, tp)"
   ]
  },
  {
   "cell_type": "code",
   "execution_count": 40,
   "metadata": {},
   "outputs": [],
   "source": [
    "pred_proba = [i[1] for i in gs.predict_proba(X_test)]\n",
    "\n",
    "pred_df = pd.DataFrame({'true_values': y_test,\n",
    "                        'pred_probs': pred_proba})"
   ]
  },
  {
   "cell_type": "code",
   "execution_count": 41,
   "metadata": {},
   "outputs": [
    {
     "data": {
      "image/png": "[encoded data removed]",
      "text/plain": [
       "<Figure size 720x504 with 1 Axes>"
      ]
     },
     "metadata": {},
     "output_type": "display_data"
    }
   ],
   "source": [
    "plotter.plot_probability_distribution(pred_df, \"Naive Bayes\")\n",
    "plt.savefig('../images/probdist_naivebayes_before.png', transparent=True)"
   ]
  },
  {
   "cell_type": "code",
   "execution_count": 42,
   "metadata": {},
   "outputs": [
    {
     "data": {
      "image/png": "[encoded data removed]",
      "text/plain": [
       "<Figure size 720x504 with 1 Axes>"
      ]
     },
     "metadata": {},
     "output_type": "display_data"
    }
   ],
   "source": [
    "plotter.plot_roc_curve(pred_df=pred_df, classifier_name=\"Naive Bayes\")\n",
    "plt.savefig('../images/roc_naivebayes_before.png', transparent=True)"
   ]
  },
  {
   "cell_type": "markdown",
   "metadata": {
    "pycharm": {
     "is_executing": false
    }
   },
   "source": [
    "### Logistic Regression"
   ]
  },
  {
   "cell_type": "code",
   "execution_count": 43,
   "metadata": {
    "pycharm": {
     "is_executing": false
    }
   },
   "outputs": [],
   "source": [
    "pipe = Pipeline([\n",
    "    ('cvec', CountVectorizer()),\n",
    "    ('tfidf', TfidfTransformer()),\n",
    "    ('lr', LogisticRegression(max_iter=5000))\n",
    "])"
   ]
  },
  {
   "cell_type": "code",
   "execution_count": 44,
   "metadata": {
    "pycharm": {
     "is_executing": false
    }
   },
   "outputs": [
    {
     "name": "stdout",
     "output_type": "stream",
     "text": [
      "0.8632503903352474\n"
     ]
    },
    {
     "data": {
      "text/plain": [
       "{'cvec__max_df': 0.9,\n",
       " 'cvec__max_features': 4000,\n",
       " 'cvec__min_df': 2,\n",
       " 'cvec__ngram_range': (1, 2),\n",
       " 'lr__penalty': 'l2'}"
      ]
     },
     "execution_count": 44,
     "metadata": {},
     "output_type": "execute_result"
    }
   ],
   "source": [
    "pipe_params = {\n",
    "    'cvec__max_features': [2500, 3000, 3500, 4000, 4500],\n",
    "    'cvec__min_df': [2, 3],\n",
    "    'cvec__max_df': [.9, .95],\n",
    "    'cvec__ngram_range': [(1,1), (1,2)],\n",
    "    'lr__penalty': ['l1', 'l2']\n",
    "}\n",
    "gs = GridSearchCV(pipe, param_grid=pipe_params, cv=3, n_jobs=-1)\n",
    "gs.fit(X_train, y_train)\n",
    "print(gs.best_score_)\n",
    "gs.best_params_"
   ]
  },
  {
   "cell_type": "markdown",
   "metadata": {},
   "source": [
    "**Inference**"
   ]
  },
  {
   "cell_type": "code",
   "execution_count": 45,
   "metadata": {},
   "outputs": [],
   "source": [
    "selected_features = gs.best_estimator_.named_steps['cvec'].get_feature_names()"
   ]
  },
  {
   "cell_type": "code",
   "execution_count": 46,
   "metadata": {},
   "outputs": [],
   "source": [
    "selected_features_coefs_exp = np.exp(gs.best_estimator_.named_steps['lr'].coef_[0])"
   ]
  },
  {
   "cell_type": "code",
   "execution_count": 47,
   "metadata": {},
   "outputs": [
    {
     "data": {
      "text/plain": [
       "[('android', 148.28226933691494),\n",
       " ('google', 10.858312034375848),\n",
       " ('java', 4.99204916288152),\n",
       " ('play', 4.630544257529272),\n",
       " ('kotlin', 3.852591866409019),\n",
       " ('admob', 3.6875078728289226),\n",
       " ('activity', 3.1588379067275674),\n",
       " ('play store', 2.8967934597022515),\n",
       " ('fragment', 2.8914991638755065),\n",
       " ('android studio', 2.646387730670579),\n",
       " ('ad', 2.623421731342117),\n",
       " ('google play', 2.606727719053449),\n",
       " ('studio', 2.573258999059603),\n",
       " ('game', 2.445534970378542),\n",
       " ('recyclerview', 2.308592556954895),\n",
       " ('phone', 2.1643323041377687),\n",
       " ('mobile', 2.1551372867377965),\n",
       " ('apk', 2.107244383730634),\n",
       " ('etc', 2.0207771741842446),\n",
       " ('images', 1.9654854101105192)]"
      ]
     },
     "execution_count": 47,
     "metadata": {},
     "output_type": "execute_result"
    }
   ],
   "source": [
    "sorted(list(zip(selected_features, selected_features_coefs_exp)), key=lambda tup: tup[1], reverse=True)[:20]"
   ]
  },
  {
   "cell_type": "markdown",
   "metadata": {},
   "source": [
    "A unit change in the tf-idf score of the word \"android\" results in an approximately 141 times increase in likelihood of the post belong the subreddit \"Developing Android Apps\""
   ]
  },
  {
   "cell_type": "markdown",
   "metadata": {},
   "source": [
    "**Classification Metrics**"
   ]
  },
  {
   "cell_type": "code",
   "execution_count": 48,
   "metadata": {
    "pycharm": {
     "is_executing": false
    }
   },
   "outputs": [
    {
     "data": {
      "text/plain": [
       "0.9823255813953489"
      ]
     },
     "execution_count": 48,
     "metadata": {},
     "output_type": "execute_result"
    }
   ],
   "source": [
    "gs.score(X_train, y_train)"
   ]
  },
  {
   "cell_type": "code",
   "execution_count": 49,
   "metadata": {
    "pycharm": {
     "is_executing": false
    }
   },
   "outputs": [
    {
     "data": {
      "text/plain": [
       "0.8495821727019499"
      ]
     },
     "execution_count": 49,
     "metadata": {},
     "output_type": "execute_result"
    }
   ],
   "source": [
    "gs.score(X_test, y_test)"
   ]
  },
  {
   "cell_type": "code",
   "execution_count": 50,
   "metadata": {
    "pycharm": {
     "is_executing": false
    }
   },
   "outputs": [],
   "source": [
    "predictions = gs.predict(X_test)"
   ]
  },
  {
   "cell_type": "code",
   "execution_count": 51,
   "metadata": {
    "pycharm": {
     "is_executing": false
    }
   },
   "outputs": [
    {
     "data": {
      "text/plain": [
       "array([[152,  26],\n",
       "       [ 28, 153]])"
      ]
     },
     "execution_count": 51,
     "metadata": {},
     "output_type": "execute_result"
    }
   ],
   "source": [
    "confusion_matrix(y_test, predictions)"
   ]
  },
  {
   "cell_type": "code",
   "execution_count": 52,
   "metadata": {
    "pycharm": {
     "is_executing": false
    }
   },
   "outputs": [],
   "source": [
    "tn, fp, fn, tp = confusion_matrix(y_test, predictions).ravel()"
   ]
  },
  {
   "cell_type": "code",
   "execution_count": 53,
   "metadata": {
    "pycharm": {
     "is_executing": false
    }
   },
   "outputs": [
    {
     "name": "stdout",
     "output_type": "stream",
     "text": [
      "True Negatives: 152\n",
      "False Positives: 26\n",
      "False Negatives: 28\n",
      "True Positives: 153\n"
     ]
    }
   ],
   "source": [
    "print(\"True Negatives: %s\" % tn)\n",
    "print(\"False Positives: %s\" % fp)\n",
    "print(\"False Negatives: %s\" % fn)\n",
    "print(\"True Positives: %s\" % tp)"
   ]
  },
  {
   "cell_type": "code",
   "execution_count": 54,
   "metadata": {},
   "outputs": [
    {
     "name": "stdout",
     "output_type": "stream",
     "text": [
      "Accuracy: 0.8495821727019499\n",
      "Misclassification: 0.1504178272980501\n",
      "Sensitivity: 0.8453038674033149\n",
      "Specificity: 0.8539325842696629\n",
      "Precision: 0.8547486033519553\n"
     ]
    }
   ],
   "source": [
    "get_classification_metrics(tn, fp, fn, tp)"
   ]
  },
  {
   "cell_type": "code",
   "execution_count": 55,
   "metadata": {},
   "outputs": [],
   "source": [
    "pred_proba = [i[1] for i in gs.predict_proba(X_test)]\n",
    "\n",
    "pred_df = pd.DataFrame({'true_values': y_test,\n",
    "                        'pred_probs':pred_proba})"
   ]
  },
  {
   "cell_type": "code",
   "execution_count": 56,
   "metadata": {},
   "outputs": [
    {
     "data": {
      "image/png": "[encoded data removed]",
      "text/plain": [
       "<Figure size 720x504 with 1 Axes>"
      ]
     },
     "metadata": {},
     "output_type": "display_data"
    }
   ],
   "source": [
    "plotter.plot_probability_distribution(pred_df, \"Logistic Regression\")\n",
    "plt.savefig('../images/probdist_logreg_before.png', transparent=True)"
   ]
  },
  {
   "cell_type": "code",
   "execution_count": 57,
   "metadata": {},
   "outputs": [
    {
     "data": {
      "image/png": "[encoded data removed]",
      "text/plain": [
       "<Figure size 720x504 with 1 Axes>"
      ]
     },
     "metadata": {},
     "output_type": "display_data"
    }
   ],
   "source": [
    "plotter.plot_roc_curve(pred_df=pred_df, classifier_name=\"Logistic Regression\")\n",
    "plt.savefig('../images/roc_logreg_before.png', transparent=True)"
   ]
  },
  {
   "cell_type": "markdown",
   "metadata": {},
   "source": [
    "## Further Modeling"
   ]
  },
  {
   "cell_type": "markdown",
   "metadata": {},
   "source": [
    "### Feature Engineering"
   ]
  },
  {
   "cell_type": "code",
   "execution_count": 58,
   "metadata": {},
   "outputs": [],
   "source": [
    "df_2 = combined_df.copy()"
   ]
  },
  {
   "cell_type": "code",
   "execution_count": 59,
   "metadata": {},
   "outputs": [
    {
     "data": {
      "text/plain": [
       "title         0\n",
       "selftext    526\n",
       "dtype: int64"
      ]
     },
     "execution_count": 59,
     "metadata": {},
     "output_type": "execute_result"
    }
   ],
   "source": [
    "df_2[['title', 'selftext']].isnull().sum()"
   ]
  },
  {
   "cell_type": "markdown",
   "metadata": {},
   "source": [
    "Since there is no null value in the title variable, we convert null values in the selftext variable to empty strings."
   ]
  },
  {
   "cell_type": "code",
   "execution_count": 60,
   "metadata": {},
   "outputs": [],
   "source": [
    "df_2['content'] = df_2['title'] + \" \" + df_2['selftext'].fillna('')"
   ]
  },
  {
   "cell_type": "markdown",
   "metadata": {},
   "source": [
    "### Baseline Accuracy"
   ]
  },
  {
   "cell_type": "code",
   "execution_count": 61,
   "metadata": {},
   "outputs": [
    {
     "data": {
      "text/plain": [
       "1    0.50051\n",
       "0    0.49949\n",
       "Name: subreddit, dtype: float64"
      ]
     },
     "execution_count": 61,
     "metadata": {},
     "output_type": "execute_result"
    }
   ],
   "source": [
    "df_2['subreddit'].value_counts(normalize=True)"
   ]
  },
  {
   "cell_type": "code",
   "execution_count": 62,
   "metadata": {
    "pycharm": {
     "is_executing": false
    }
   },
   "outputs": [
    {
     "data": {
      "text/plain": [
       "Index(['id', 'title', 'name', 'media', 'is_video', 'permalink',\n",
       "       'author_flair_type', 'link_flair_type', 'created', 'created_utc',\n",
       "       'selftext', 'author_fullname', 'subreddit', 'content'],\n",
       "      dtype='object')"
      ]
     },
     "execution_count": 62,
     "metadata": {},
     "output_type": "execute_result"
    }
   ],
   "source": [
    "df_2.columns"
   ]
  },
  {
   "cell_type": "code",
   "execution_count": 63,
   "metadata": {},
   "outputs": [],
   "source": [
    "X = df_2['content'].apply(review_to_words)\n",
    "y = df_2['subreddit']"
   ]
  },
  {
   "cell_type": "code",
   "execution_count": 64,
   "metadata": {
    "pycharm": {
     "is_executing": false
    }
   },
   "outputs": [],
   "source": [
    "# Create train_test_split.\n",
    "X_train, X_test, y_train, y_test = train_test_split(X,\n",
    "                                                    y,\n",
    "                                                    stratify=y,\n",
    "                                                    test_size = 0.25,\n",
    "                                                    random_state = 42)"
   ]
  },
  {
   "cell_type": "markdown",
   "metadata": {
    "pycharm": {
     "is_executing": false
    }
   },
   "source": [
    "### Multinomial Naive Bayes"
   ]
  },
  {
   "cell_type": "code",
   "execution_count": 65,
   "metadata": {
    "pycharm": {
     "is_executing": false
    }
   },
   "outputs": [],
   "source": [
    "pipe = Pipeline([\n",
    "    ('cvec', CountVectorizer()),\n",
    "    ('tfidf', TfidfTransformer()),\n",
    "    ('nb', MultinomialNB())\n",
    "])"
   ]
  },
  {
   "cell_type": "code",
   "execution_count": 66,
   "metadata": {
    "pycharm": {
     "is_executing": false
    }
   },
   "outputs": [
    {
     "name": "stdout",
     "output_type": "stream",
     "text": [
      "0.8680272108843538\n"
     ]
    },
    {
     "data": {
      "text/plain": [
       "{'cvec__max_df': 0.9,\n",
       " 'cvec__max_features': 3500,\n",
       " 'cvec__min_df': 2,\n",
       " 'cvec__ngram_range': (1, 2)}"
      ]
     },
     "execution_count": 66,
     "metadata": {},
     "output_type": "execute_result"
    }
   ],
   "source": [
    "pipe_params = {\n",
    "    'cvec__max_features': [2500, 3000, 3500, 4000, 4500],\n",
    "    'cvec__min_df': [2, 3],\n",
    "    'cvec__max_df': [.9, .95],\n",
    "    'cvec__ngram_range': [(1,1), (1,2)]\n",
    "}\n",
    "gs = GridSearchCV(pipe, param_grid=pipe_params, cv=3, n_jobs=-1)\n",
    "gs.fit(X_train, y_train) # gs.fit(X_train['selftext'], y_train)\n",
    "print(gs.best_score_)\n",
    "gs.best_params_"
   ]
  },
  {
   "cell_type": "markdown",
   "metadata": {},
   "source": [
    "**Inference**"
   ]
  },
  {
   "cell_type": "code",
   "execution_count": 67,
   "metadata": {},
   "outputs": [],
   "source": [
    "# Probabilities for positive class\n",
    "pos_class_prob_sorted = gs.best_estimator_.named_steps['nb'].feature_log_prob_[0, :].argsort()\n",
    "\n",
    "# Probabilities for negative class\n",
    "neg_class_prob_sorted = gs.best_estimator_.named_steps['nb'].feature_log_prob_[1, :].argsort()"
   ]
  },
  {
   "cell_type": "code",
   "execution_count": 68,
   "metadata": {},
   "outputs": [],
   "source": [
    "# Getting the top features \n",
    "pos_top_features = np.take(gs.best_estimator_.named_steps['cvec'].get_feature_names(), pos_class_prob_sorted)\n",
    "neg_top_features = np.take(gs.best_estimator_.named_steps['cvec'].get_feature_names(), neg_class_prob_sorted)"
   ]
  },
  {
   "cell_type": "code",
   "execution_count": 69,
   "metadata": {},
   "outputs": [
    {
     "data": {
      "text/plain": [
       "['inject',\n",
       " 'com posting',\n",
       " 'name android',\n",
       " 'please paste',\n",
       " 'initialize',\n",
       " 'stores',\n",
       " 'commenters',\n",
       " 'comments consider',\n",
       " 'store pages',\n",
       " 'store listing',\n",
       " 'ndk',\n",
       " 'industry',\n",
       " 'still allowed',\n",
       " 'steal',\n",
       " 'indexing',\n",
       " 'compose',\n",
       " 'compose fr',\n",
       " 'stats',\n",
       " 'strike',\n",
       " 'income']"
      ]
     },
     "execution_count": 69,
     "metadata": {},
     "output_type": "execute_result"
    }
   ],
   "source": [
    "# Top 20 features for the positive class\n",
    "pos_top_features[:20].tolist()"
   ]
  },
  {
   "cell_type": "code",
   "execution_count": 70,
   "metadata": {},
   "outputs": [
    {
     "data": {
      "text/plain": [
       "['table view',\n",
       " 'rxswift',\n",
       " 'baseurl search',\n",
       " 'work equity',\n",
       " 'safari',\n",
       " 'touchbar',\n",
       " 'megathread',\n",
       " 'use thread',\n",
       " 'samplebuffer',\n",
       " 'megathread december',\n",
       " 'sandbox',\n",
       " 'find beginner',\n",
       " 'use xcode',\n",
       " 'running courses',\n",
       " 'megathread hub',\n",
       " 'iphones',\n",
       " 'ipados',\n",
       " 'save everyone',\n",
       " 'completion escaping',\n",
       " 'ipad']"
      ]
     },
     "execution_count": 70,
     "metadata": {},
     "output_type": "execute_result"
    }
   ],
   "source": [
    "# Top 20 features for the negative class\n",
    "neg_top_features[:20].tolist()"
   ]
  },
  {
   "cell_type": "markdown",
   "metadata": {},
   "source": [
    "**Classification Metrics**"
   ]
  },
  {
   "cell_type": "code",
   "execution_count": 71,
   "metadata": {
    "pycharm": {
     "is_executing": false
    }
   },
   "outputs": [
    {
     "data": {
      "text/plain": [
       "0.9653061224489796"
      ]
     },
     "execution_count": 71,
     "metadata": {},
     "output_type": "execute_result"
    }
   ],
   "source": [
    "gs.score(X_train, y_train) "
   ]
  },
  {
   "cell_type": "code",
   "execution_count": 72,
   "metadata": {
    "pycharm": {
     "is_executing": false
    }
   },
   "outputs": [
    {
     "data": {
      "text/plain": [
       "0.8877551020408163"
      ]
     },
     "execution_count": 72,
     "metadata": {},
     "output_type": "execute_result"
    }
   ],
   "source": [
    "gs.score(X_test, y_test)"
   ]
  },
  {
   "cell_type": "code",
   "execution_count": 73,
   "metadata": {
    "pycharm": {
     "is_executing": false
    }
   },
   "outputs": [],
   "source": [
    "predictions = gs.predict(X_test)"
   ]
  },
  {
   "cell_type": "code",
   "execution_count": 74,
   "metadata": {
    "pycharm": {
     "is_executing": false
    }
   },
   "outputs": [
    {
     "data": {
      "text/plain": [
       "array([[229,  16],\n",
       "       [ 39, 206]])"
      ]
     },
     "execution_count": 74,
     "metadata": {},
     "output_type": "execute_result"
    }
   ],
   "source": [
    "confusion_matrix(y_test, predictions)"
   ]
  },
  {
   "cell_type": "code",
   "execution_count": 75,
   "metadata": {
    "pycharm": {
     "is_executing": false
    }
   },
   "outputs": [],
   "source": [
    "tn, fp, fn, tp = confusion_matrix(y_test, predictions).ravel()"
   ]
  },
  {
   "cell_type": "code",
   "execution_count": 76,
   "metadata": {
    "pycharm": {
     "is_executing": false
    }
   },
   "outputs": [
    {
     "name": "stdout",
     "output_type": "stream",
     "text": [
      "True Negatives: 229\n",
      "False Positives: 16\n",
      "False Negatives: 39\n",
      "True Positives: 206\n"
     ]
    }
   ],
   "source": [
    "print(\"True Negatives: %s\" % tn)\n",
    "print(\"False Positives: %s\" % fp)\n",
    "print(\"False Negatives: %s\" % fn)\n",
    "print(\"True Positives: %s\" % tp)"
   ]
  },
  {
   "cell_type": "code",
   "execution_count": 77,
   "metadata": {},
   "outputs": [],
   "source": [
    "def get_classification_metrics(tn, fp, fn, tp):\n",
    "    accuracy = (tp + tn) / (tp + fp + tn + fn)\n",
    "    misclassification = 1 - accuracy\n",
    "    sensitivity = tp / (tp + fn)\n",
    "    specificity = tn / (tn + fp)\n",
    "    precision = tp / (tp + fp)\n",
    "    \n",
    "    print(\"Accuracy: %s\" % accuracy)\n",
    "    print(\"Misclassification: %s\" % misclassification)\n",
    "    print(\"Sensitivity: %s\" % sensitivity)\n",
    "    print(\"Specificity: %s\" % specificity)\n",
    "    print(\"Precision: %s\" % precision)"
   ]
  },
  {
   "cell_type": "code",
   "execution_count": 78,
   "metadata": {
    "scrolled": true
   },
   "outputs": [
    {
     "name": "stdout",
     "output_type": "stream",
     "text": [
      "Accuracy: 0.8877551020408163\n",
      "Misclassification: 0.11224489795918369\n",
      "Sensitivity: 0.8408163265306122\n",
      "Specificity: 0.9346938775510204\n",
      "Precision: 0.9279279279279279\n"
     ]
    }
   ],
   "source": [
    "get_classification_metrics(tn, fp, fn, tp)"
   ]
  },
  {
   "cell_type": "code",
   "execution_count": 79,
   "metadata": {},
   "outputs": [],
   "source": [
    "pred_proba = [i[1] for i in gs.predict_proba(X_test)]\n",
    "\n",
    "pred_df = pd.DataFrame({'true_values': y_test,\n",
    "                        'pred_probs': pred_proba})"
   ]
  },
  {
   "cell_type": "code",
   "execution_count": 80,
   "metadata": {},
   "outputs": [
    {
     "data": {
      "image/png": "[encoded data removed]",
      "text/plain": [
       "<Figure size 720x504 with 1 Axes>"
      ]
     },
     "metadata": {},
     "output_type": "display_data"
    }
   ],
   "source": [
    "plotter.plot_probability_distribution(pred_df, \"Naive Bayes\")\n",
    "plt.savefig('../images/probdist_naivebayes_after.png', transparent=True)"
   ]
  },
  {
   "cell_type": "code",
   "execution_count": 81,
   "metadata": {},
   "outputs": [
    {
     "data": {
      "image/png": "[encoded data removed]",
      "text/plain": [
       "<Figure size 720x504 with 1 Axes>"
      ]
     },
     "metadata": {},
     "output_type": "display_data"
    }
   ],
   "source": [
    "plotter.plot_roc_curve(pred_df=pred_df, classifier_name=\"Naive Bayes\")\n",
    "plt.savefig('../images/roc_naivebayes_after.png', transparent=True)"
   ]
  },
  {
   "cell_type": "markdown",
   "metadata": {
    "pycharm": {
     "is_executing": false
    }
   },
   "source": [
    "### Logistic Regression"
   ]
  },
  {
   "cell_type": "code",
   "execution_count": 82,
   "metadata": {
    "pycharm": {
     "is_executing": false
    }
   },
   "outputs": [],
   "source": [
    "pipe = Pipeline([\n",
    "    ('cvec', CountVectorizer()),\n",
    "    ('tfidf', TfidfTransformer()),\n",
    "    ('lr', LogisticRegression(max_iter=5000))\n",
    "])"
   ]
  },
  {
   "cell_type": "code",
   "execution_count": 83,
   "metadata": {
    "pycharm": {
     "is_executing": false
    }
   },
   "outputs": [
    {
     "name": "stdout",
     "output_type": "stream",
     "text": [
      "0.8802721088435375\n"
     ]
    },
    {
     "data": {
      "text/plain": [
       "{'cvec__max_df': 0.9,\n",
       " 'cvec__max_features': 3000,\n",
       " 'cvec__min_df': 2,\n",
       " 'cvec__ngram_range': (1, 2)}"
      ]
     },
     "execution_count": 83,
     "metadata": {},
     "output_type": "execute_result"
    }
   ],
   "source": [
    "pipe_params = {\n",
    "    'cvec__max_features': [2500, 3000, 3500, 4000, 4500],\n",
    "    'cvec__min_df': [2, 3],\n",
    "    'cvec__max_df': [.9, .95],\n",
    "    'cvec__ngram_range': [(1,1), (1,2)]\n",
    "}\n",
    "gs = GridSearchCV(pipe, param_grid=pipe_params, cv=3, n_jobs=-1)\n",
    "gs.fit(X_train, y_train)\n",
    "print(gs.best_score_)\n",
    "gs.best_params_"
   ]
  },
  {
   "cell_type": "markdown",
   "metadata": {},
   "source": [
    "**Inference**"
   ]
  },
  {
   "cell_type": "code",
   "execution_count": 84,
   "metadata": {},
   "outputs": [],
   "source": [
    "selected_features = gs.best_estimator_.named_steps['cvec'].get_feature_names()"
   ]
  },
  {
   "cell_type": "code",
   "execution_count": 85,
   "metadata": {},
   "outputs": [],
   "source": [
    "selected_features_coefs_exp = np.exp(gs.best_estimator_.named_steps['lr'].coef_[0])"
   ]
  },
  {
   "cell_type": "code",
   "execution_count": 86,
   "metadata": {
    "scrolled": true
   },
   "outputs": [
    {
     "data": {
      "text/plain": [
       "[('android', 879.2826122321815),\n",
       " ('google', 19.4776390729306),\n",
       " ('kotlin', 8.695350578934352),\n",
       " ('java', 7.385585314566653),\n",
       " ('admob', 6.724834671861537),\n",
       " ('play', 5.28606100187019),\n",
       " ('emulator', 4.086187345625469),\n",
       " ('library', 3.697701262222655),\n",
       " ('activity', 3.6453625830685046),\n",
       " ('play store', 3.453161705832043),\n",
       " ('android studio', 3.250628471548507),\n",
       " ('studio', 3.19083008953339),\n",
       " ('google play', 3.1270150883449017),\n",
       " ('dagger', 3.0783835694468595),\n",
       " ('room', 2.963949116464888),\n",
       " ('fragment', 2.8418119443026626),\n",
       " ('fragments', 2.7421593017377757),\n",
       " ('jetpack', 2.6894456450328517),\n",
       " ('ad', 2.663138627015133),\n",
       " ('game', 2.610082484460937)]"
      ]
     },
     "execution_count": 86,
     "metadata": {},
     "output_type": "execute_result"
    }
   ],
   "source": [
    "sorted(list(zip(selected_features, selected_features_coefs_exp)), key=lambda tup: tup[1], reverse=True)[:20]"
   ]
  },
  {
   "cell_type": "markdown",
   "metadata": {},
   "source": [
    "A unit change in the tf-idf score of the word \"android\" results in an approximately 898 times increase in likelihood of the post belong the subreddit \"Developing Android Apps\""
   ]
  },
  {
   "cell_type": "markdown",
   "metadata": {},
   "source": [
    "**Classification Metrics**"
   ]
  },
  {
   "cell_type": "code",
   "execution_count": 87,
   "metadata": {
    "pycharm": {
     "is_executing": false
    }
   },
   "outputs": [
    {
     "data": {
      "text/plain": [
       "0.9768707482993197"
      ]
     },
     "execution_count": 87,
     "metadata": {},
     "output_type": "execute_result"
    }
   ],
   "source": [
    "gs.score(X_train, y_train)"
   ]
  },
  {
   "cell_type": "code",
   "execution_count": 88,
   "metadata": {
    "pycharm": {
     "is_executing": false
    }
   },
   "outputs": [
    {
     "data": {
      "text/plain": [
       "0.8693877551020408"
      ]
     },
     "execution_count": 88,
     "metadata": {},
     "output_type": "execute_result"
    }
   ],
   "source": [
    "gs.score(X_test, y_test)"
   ]
  },
  {
   "cell_type": "code",
   "execution_count": 89,
   "metadata": {
    "pycharm": {
     "is_executing": false
    }
   },
   "outputs": [],
   "source": [
    "predictions = gs.predict(X_test)"
   ]
  },
  {
   "cell_type": "code",
   "execution_count": 90,
   "metadata": {
    "pycharm": {
     "is_executing": false
    }
   },
   "outputs": [
    {
     "data": {
      "text/plain": [
       "array([[225,  20],\n",
       "       [ 44, 201]])"
      ]
     },
     "execution_count": 90,
     "metadata": {},
     "output_type": "execute_result"
    }
   ],
   "source": [
    "confusion_matrix(y_test, predictions)"
   ]
  },
  {
   "cell_type": "code",
   "execution_count": 91,
   "metadata": {
    "pycharm": {
     "is_executing": false
    }
   },
   "outputs": [],
   "source": [
    "tn, fp, fn, tp = confusion_matrix(y_test, predictions).ravel()"
   ]
  },
  {
   "cell_type": "code",
   "execution_count": 92,
   "metadata": {
    "pycharm": {
     "is_executing": false
    }
   },
   "outputs": [
    {
     "name": "stdout",
     "output_type": "stream",
     "text": [
      "True Negatives: 225\n",
      "False Positives: 20\n",
      "False Negatives: 44\n",
      "True Positives: 201\n"
     ]
    }
   ],
   "source": [
    "print(\"True Negatives: %s\" % tn)\n",
    "print(\"False Positives: %s\" % fp)\n",
    "print(\"False Negatives: %s\" % fn)\n",
    "print(\"True Positives: %s\" % tp)"
   ]
  },
  {
   "cell_type": "code",
   "execution_count": 93,
   "metadata": {},
   "outputs": [
    {
     "name": "stdout",
     "output_type": "stream",
     "text": [
      "Accuracy: 0.8693877551020408\n",
      "Misclassification: 0.1306122448979592\n",
      "Sensitivity: 0.8204081632653061\n",
      "Specificity: 0.9183673469387755\n",
      "Precision: 0.9095022624434389\n"
     ]
    }
   ],
   "source": [
    "get_classification_metrics(tn, fp, fn, tp)"
   ]
  },
  {
   "cell_type": "code",
   "execution_count": 94,
   "metadata": {},
   "outputs": [],
   "source": [
    "pred_proba = [i[1] for i in gs.predict_proba(X_test)]\n",
    "\n",
    "pred_df = pd.DataFrame({'true_values': y_test,\n",
    "                        'pred_probs':pred_proba})"
   ]
  },
  {
   "cell_type": "code",
   "execution_count": 95,
   "metadata": {},
   "outputs": [
    {
     "data": {
      "image/png": "[encoded data removed]",
      "text/plain": [
       "<Figure size 720x504 with 1 Axes>"
      ]
     },
     "metadata": {},
     "output_type": "display_data"
    }
   ],
   "source": [
    "plotter.plot_probability_distribution(pred_df, \"Logistic Regression\")\n",
    "plt.savefig('../images/probdist_logreg_after.png', transparent=True)"
   ]
  },
  {
   "cell_type": "code",
   "execution_count": 96,
   "metadata": {},
   "outputs": [
    {
     "data": {
      "image/png": "[encoded data removed]",
      "text/plain": [
       "<Figure size 720x504 with 1 Axes>"
      ]
     },
     "metadata": {},
     "output_type": "display_data"
    }
   ],
   "source": [
    "plotter.plot_roc_curve(pred_df=pred_df, classifier_name=\"Logistic Regression\")\n",
    "plt.savefig('../images/roc_logreg_after.png', transparent=True)"
   ]
  },
  {
   "cell_type": "markdown",
   "metadata": {},
   "source": [
    "## Conclusions and Recommendations"
   ]
  },
  {
   "cell_type": "markdown",
   "metadata": {},
   "source": [
    "The classification metrics of the models used are as follows:\n",
    "\n",
    "<table>\n",
    "    <thead>\n",
    "        <tr>\n",
    "            <th></th>\n",
    "            <th colspan=2>Before Feature Engineering</th>\n",
    "            <th colspan=2>After Feature Engineering</th>\n",
    "        </tr>\n",
    "        <tr>\n",
    "            <th>Metrics</th>\n",
    "            <th>Naive Bayes</th>\n",
    "            <th>Logistic Regression</th>\n",
    "            <th>Naive Bayes</th>\n",
    "            <th>Logistic Regression</th>\n",
    "        </tr>\n",
    "    </thead>\n",
    "    <tbody>\n",
    "        <tr>\n",
    "            <td>Accuracy</td>\n",
    "            <td>0.841</td>\n",
    "            <td>0.850</td>\n",
    "            <td>0.888</td>\n",
    "            <td>0.869</td>\n",
    "        </tr>\n",
    "        <tr>\n",
    "            <td>Misclassification</td>\n",
    "            <td>0.159</td>\n",
    "            <td>0.150</td>\n",
    "            <td>0.112</td>\n",
    "            <td>0.131</td>\n",
    "        </tr>\n",
    "        <tr>\n",
    "            <td>Sensitivity</td>\n",
    "            <td>0.851</td>\n",
    "            <td>0.845</td>\n",
    "            <td>0.841</td>\n",
    "            <td>0.820</td>\n",
    "        </tr>\n",
    "        <tr>\n",
    "            <td>Specificity</td>\n",
    "            <td>0.831</td>\n",
    "            <td>0.854</td>\n",
    "            <td>0.935</td>\n",
    "            <td>0.918</td>\n",
    "        </tr>\n",
    "        <tr>\n",
    "            <td>Precision</td>\n",
    "            <td>0.837</td>\n",
    "            <td>0.855</td>\n",
    "            <td>0.928</td>\n",
    "            <td>0.910</td>\n",
    "        </tr>\n",
    "    </tbody>\n",
    "</table>\n",
    "\n",
    "It can be observed that the accuracy of the Logistic Regression classifier was higher than the accuracy of the Naive Bayes classifier before feature engineering was performed.\n",
    "\n",
    "After feature engineering was performed, where the title and selftext was added together, the Naive Bayes classifier outperformed the Logistic Regression classifier in terms of accuracy.\n",
    "\n",
    "Based on these findings, it is recommended that the title and selftext are both factored into the Naive Bayes classifier for the highest classification accuracy when classifying reddit posts as either of the two subreddit threads, \"Developing Android Apps\" and \"iOS Programming\"."
   ]
  }
 ],
 "metadata": {
  "kernelspec": {
   "display_name": "Python 3",
   "language": "python",
   "name": "python3"
  },
  "language_info": {
   "codemirror_mode": {
    "name": "ipython",
    "version": 3
   },
   "file_extension": ".py",
   "mimetype": "text/x-python",
   "name": "python",
   "nbconvert_exporter": "python",
   "pygments_lexer": "ipython3",
   "version": "3.7.4"
  },
  "pycharm": {
   "stem_cell": {
    "cell_type": "raw",
    "metadata": {
     "collapsed": false
    },
    "source": []
   }
  }
 },
 "nbformat": 4,
 "nbformat_minor": 1
}
