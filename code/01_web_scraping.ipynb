{
 "cells": [
  {
   "cell_type": "markdown",
   "metadata": {
    "collapsed": true,
    "pycharm": {
     "name": "#%% md\n"
    }
   },
   "source": [
    "## Import libraries"
   ]
  },
  {
   "cell_type": "code",
   "execution_count": 5,
   "metadata": {
    "pycharm": {
     "is_executing": false,
     "name": "#%%\n"
    }
   },
   "outputs": [],
   "source": [
    "import requests\n",
    "import pandas as pd\n",
    "import time\n",
    "import random"
   ]
  },
  {
   "cell_type": "markdown",
   "metadata": {
    "pycharm": {
     "name": "#%% md\n"
    }
   },
   "source": [
    "## Fetch data from web APIs"
   ]
  },
  {
   "cell_type": "code",
   "execution_count": 2,
   "metadata": {
    "pycharm": {
     "is_executing": false,
     "name": "#%%\n"
    }
   },
   "outputs": [],
   "source": [
    "headers={'User-agent': 'Pony Inc 1.0'}"
   ]
  },
  {
   "cell_type": "code",
   "execution_count": 3,
   "metadata": {
    "pycharm": {
     "is_executing": false,
     "name": "#%%\n"
    }
   },
   "outputs": [],
   "source": [
    "def get_posts_from_subreddit(url, filename, after):\n",
    "    posts = []\n",
    "    # after = None\n",
    "    for i in range(40): # 40*25 = 1000 \n",
    "        # print(i)\n",
    "        if after == None:\n",
    "            params = {}\n",
    "        else:\n",
    "            params = {'after': after}\n",
    "        res = requests.get(url, params=params, headers=headers)\n",
    "        if res.status_code == 200:\n",
    "            the_json = res.json()\n",
    "            list_of_post_objects = the_json['data']['children']\n",
    "            posts.extend([post_object['data'] for post_object in list_of_post_objects]) # preprocess before extend?\n",
    "            pd.DataFrame(posts).to_csv('../data/{}.csv'.format(filename))\n",
    "            after = the_json['data']['after']\n",
    "        else:\n",
    "            print(res.status_code)\n",
    "            break\n",
    "        time.sleep(1)\n",
    "    return posts, after"
   ]
  },
  {
   "cell_type": "code",
   "execution_count": 4,
   "metadata": {
    "pycharm": {
     "is_executing": false,
     "name": "#%%\n"
    }
   },
   "outputs": [],
   "source": [
    "domain = \"https://www.reddit.com\""
   ]
  },
  {
   "cell_type": "code",
   "execution_count": null,
   "metadata": {
    "pycharm": {
     "is_executing": false,
     "name": "#%%\n"
    }
   },
   "outputs": [],
   "source": [
    "after = None\n",
    "android_posts, after = get_posts_from_subreddit('{}/r/androiddev.json'.format(domain), 'android_dev', after)"
   ]
  },
  {
   "cell_type": "code",
   "execution_count": null,
   "metadata": {
    "pycharm": {
     "is_executing": false,
     "name": "#%%\n"
    }
   },
   "outputs": [],
   "source": [
    "after = None\n",
    "ios_posts = get_posts_from_subreddit('{}/r/iOSProgramming.json'.format(domain), 'ios_programming', after)"
   ]
  },
  {
   "cell_type": "markdown",
   "source": [
    "## Miscellaneous"
   ],
   "metadata": {
    "collapsed": false
   }
  },
  {
   "cell_type": "code",
   "execution_count": null,
   "outputs": [],
   "source": [
    "# android_posts, after = get_posts_from_subreddit('{}/r/androiddev.json'.format(domain), 'android_dev_1', after)\n",
    "# android_posts, after = get_posts_from_subreddit('{}/r/androiddev.json'.format(domain), 'android_dev_2', after)"
   ],
   "metadata": {
    "collapsed": false,
    "pycharm": {
     "name": "#%%\n"
    }
   }
  },
  {
   "cell_type": "markdown",
   "metadata": {},
   "source": [
    "# android_df_1 = pd.read_csv('../data/android_dev_1.csv', index_col='id')\n",
    "# android_df_1.drop(['Unnamed: 0'], axis=1, inplace=True)\n",
    "# android_df_1.shape"
   ]
  },
  {
   "cell_type": "code",
   "execution_count": null,
   "metadata": {},
   "outputs": [],
   "source": [
    "# android_posts, after = get_posts_from_subreddit('{}/r/androiddev.json'.format(domain), 'android_dev_1', after)\n",
    "# android_posts, after = get_posts_from_subreddit('{}/r/androiddev.json'.format(domain), 'android_dev_2', after)"
   ]
  },
  {
   "cell_type": "code",
   "execution_count": 83,
   "metadata": {
    "pycharm": {
     "is_executing": false,
     "name": "#%%\n"
    }
   },
   "outputs": [
    {
     "data": {
      "text/plain": [
       "(982, 108)"
      ]
     },
     "execution_count": 83,
     "metadata": {},
     "output_type": "execute_result"
    }
   ],
   "source": [
    "# android_df_1 = pd.read_csv('../data/android_dev_1.csv', index_col='id')\n",
    "# android_df_1.drop(['Unnamed: 0'], axis=1, inplace=True)\n",
    "# android_df_1.shape"
   ]
  },
  {
   "cell_type": "code",
   "execution_count": 84,
   "metadata": {
    "pycharm": {
     "is_executing": false,
     "name": "#%%\n"
    }
   },
   "outputs": [
    {
     "data": {
      "text/plain": [
       "(982, 108)"
      ]
     },
     "execution_count": 84,
     "metadata": {},
     "output_type": "execute_result"
    }
   ],
   "source": [
    "# android_df_2 = pd.read_csv('../data/android_dev_2.csv', index_col='id')\n",
    "# android_df_2.drop(['Unnamed: 0'], axis=1, inplace=True)\n",
    "# android_df_2.shape"
   ]
  },
  {
   "cell_type": "code",
   "execution_count": 85,
   "metadata": {
    "pycharm": {
     "is_executing": false,
     "name": "#%%\n"
    }
   },
   "outputs": [],
   "source": [
    "# combined_df = pd.concat([android_df_1, android_df_2])"
   ]
  },
  {
   "cell_type": "code",
   "execution_count": 86,
   "metadata": {
    "pycharm": {
     "is_executing": false,
     "name": "#%%\n"
    }
   },
   "outputs": [
    {
     "data": {
      "text/plain": [
       "Index(['ercqvf', 'erbsa6', 'er8d2d', 'ercrgu', 'erd38v', 'equdx6', 'erb1o2',\n",
       "       'eqzbvh', 'eratk6', 'erars1',\n",
       "       ...\n",
       "       'e8tkz2', 'e8s98m', 'e8nu4x', 'e8r8d0', 'e8qm9g', 'e8po55', 'e8opaf',\n",
       "       'e8l0tf', 'e8rf2c', 'e8nlbl'],\n",
       "      dtype='object', name='id', length=982)"
      ]
     },
     "execution_count": 86,
     "metadata": {},
     "output_type": "execute_result"
    }
   ],
   "source": [
    "# combined_df.index.unique()"
   ]
  },
  {
   "cell_type": "code",
   "execution_count": 87,
   "metadata": {
    "pycharm": {
     "is_executing": false,
     "name": "#%%\n"
    }
   },
   "outputs": [
    {
     "data": {
      "text/plain": [
       "(982, 108)"
      ]
     },
     "execution_count": 87,
     "metadata": {},
     "output_type": "execute_result"
    }
   ],
   "source": [
    "# combined_df.loc[~combined_df.index.duplicated(keep='first')].shape"
   ]
  },
  {
   "cell_type": "code",
   "execution_count": null,
   "metadata": {
    "pycharm": {
     "name": "#%%\n"
    }
   },
   "outputs": [],
   "source": []
  }
 ],
 "metadata": {
  "kernelspec": {
   "display_name": "PyCharm (untitled)",
   "language": "python",
   "name": "pycharm-f3445131"
  },
  "language_info": {
   "codemirror_mode": {
    "name": "ipython",
    "version": 3
   },
   "file_extension": ".py",
   "mimetype": "text/x-python",
   "name": "python",
   "nbconvert_exporter": "python",
   "pygments_lexer": "ipython3",
   "version": "3.7.4"
  },
  "pycharm": {
   "stem_cell": {
    "cell_type": "raw",
    "source": [],
    "metadata": {
     "collapsed": false
    }
   }
  }
 },
 "nbformat": 4,
 "nbformat_minor": 1
}